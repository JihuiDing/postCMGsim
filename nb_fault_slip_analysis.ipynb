{
 "cells": [
  {
   "cell_type": "markdown",
   "id": "f95a5b57",
   "metadata": {},
   "source": [
    "# 1. Extract grid coordinates and fault id from Petrel exported files. Only need to do once for a 3D grid in Petrel. Save it as numpy array for later use."
   ]
  },
  {
   "cell_type": "markdown",
   "id": "c0d35684",
   "metadata": {},
   "source": [
    "# 2. Extract pressure data from CMG simulation results (sr3 -> rwo -> numpy)."
   ]
  },
  {
   "cell_type": "markdown",
   "id": "3cb8b910",
   "metadata": {},
   "source": [
    "# 3. Peform fault slip analysis"
   ]
  },
  {
   "cell_type": "markdown",
   "id": "40a35453",
   "metadata": {},
   "source": [
    "## perform fault slip analysis on each case"
   ]
  },
  {
   "cell_type": "code",
   "execution_count": 1,
   "id": "0f2efa6f",
   "metadata": {},
   "outputs": [
    {
     "name": "stdout",
     "output_type": "stream",
     "text": [
      "Processing case1...\n",
      "Processing case2...\n",
      "Processing case3...\n",
      "Processing case4...\n",
      "Processing case5...\n",
      "Processing case6...\n",
      "Processing case7...\n",
      "Processing case8...\n",
      "Processing case9...\n",
      "Processing case10...\n",
      "Processing case11...\n",
      "Processing case12...\n",
      "Processing case13...\n",
      "Processing case14...\n",
      "Processing case15...\n",
      "Processing case16...\n",
      "Processing case17...\n",
      "Processing case18...\n",
      "Processing case19...\n",
      "Processing case20...\n",
      "Processing case21...\n",
      "Processing case22...\n",
      "Processing case23...\n",
      "Processing case24...\n",
      "Processing case25...\n",
      "Processing case26...\n",
      "Processing case27...\n",
      "Processing case28...\n",
      "Processing case29...\n",
      "Processing case30...\n",
      "Processing case31...\n",
      "Processing case32...\n",
      "Processing case33...\n",
      "Processing case34...\n",
      "Processing case35...\n",
      "Processing case36...\n",
      "Processing case37...\n",
      "Processing case38...\n",
      "Processing case39...\n",
      "Processing case40...\n",
      "Processing case41...\n",
      "Processing case42...\n",
      "Processing case43...\n",
      "Processing case44...\n",
      "Processing case45...\n",
      "Processing case46...\n",
      "Processing case47...\n",
      "Processing case48...\n",
      "Processing case49...\n",
      "Processing case50...\n",
      "Processing case51...\n",
      "Processing case52...\n",
      "Processing case53...\n",
      "Processing case54...\n",
      "Processing case55...\n",
      "Processing case56...\n",
      "Processing case57...\n",
      "Processing case58...\n",
      "Processing case59...\n",
      "Processing case60...\n",
      "Processing case61...\n",
      "Processing case62...\n",
      "Processing case63...\n",
      "Processing case64...\n",
      "Processing case65...\n",
      "Processing case66...\n",
      "Processing case67...\n",
      "Processing case68...\n",
      "Processing case69...\n",
      "Processing case70...\n",
      "Processing case71...\n",
      "Processing case72...\n",
      "Processing case73...\n",
      "Processing case74...\n",
      "Processing case75...\n",
      "Processing case76...\n",
      "Processing case77...\n",
      "Processing case78...\n",
      "Processing case79...\n",
      "Processing case80...\n",
      "Processing case81...\n",
      "Processing case82...\n",
      "Processing case83...\n",
      "Processing case84...\n",
      "Processing case85...\n",
      "Processing case86...\n",
      "Processing case87...\n",
      "Processing case88...\n",
      "Processing case89...\n",
      "Processing case90...\n"
     ]
    }
   ],
   "source": [
    "from fault_slip_analysis import fault_slip_analysis\n",
    "\n",
    "for case_num in range(1, 91):\n",
    "    fault_slip_analysis(\n",
    "        pres_folder_path = \"data/results_trimmed\",\n",
    "        coor_fault_file_path = \"results/JD_Sula_2025_flow_coor&fault_reservoir.npy\",\n",
    "        parameter_file_path = \"data/250819_CMG_parameters2.csv\",\n",
    "        save_folder_path = \"results/fault_slip2\",\n",
    "        case_name = f\"case{case_num}\", \n",
    "        )"
   ]
  },
  {
   "cell_type": "markdown",
   "id": "5571778f",
   "metadata": {},
   "source": [
    "## calculate fault slip percentage on each case"
   ]
  },
  {
   "cell_type": "code",
   "execution_count": 2,
   "id": "996e49dc",
   "metadata": {},
   "outputs": [],
   "source": [
    "import numpy as np\n",
    "\n",
    "n_cases = 90\n",
    "n_time = 6\n",
    "fault_slip_mean = np.zeros((n_cases,n_time))\n",
    "for case_num in range(1, n_cases+1):\n",
    "    fault_slip = np.load(f\"results/fault_slip2/case{case_num}_fault_slip.npy\")\n",
    "    fault_slip_mean[case_num-1,:] = np.mean(fault_slip,axis=(0,1,2))\n",
    "\n",
    "# save as csv\n",
    "np.savetxt(\"results/fault_slip_mean2.csv\",fault_slip_mean,delimiter=\",\",fmt=\"%.4f\")\n",
    "# save for DGSA responses\n",
    "year = 2050; year_list = [2030, 2040, 2050, 2060, 2550, 3050]\n",
    "np.savetxt(\"results/250819_CMG_responses2.csv\",fault_slip_mean[:,year_list.index(year)],delimiter=\",\",fmt=\"%.4f\")"
   ]
  },
  {
   "cell_type": "code",
   "execution_count": null,
   "id": "4c4e356e",
   "metadata": {},
   "outputs": [],
   "source": []
  }
 ],
 "metadata": {
  "kernelspec": {
   "display_name": "base",
   "language": "python",
   "name": "python3"
  },
  "language_info": {
   "codemirror_mode": {
    "name": "ipython",
    "version": 3
   },
   "file_extension": ".py",
   "mimetype": "text/x-python",
   "name": "python",
   "nbconvert_exporter": "python",
   "pygments_lexer": "ipython3",
   "version": "3.12.4"
  }
 },
 "nbformat": 4,
 "nbformat_minor": 5
}
