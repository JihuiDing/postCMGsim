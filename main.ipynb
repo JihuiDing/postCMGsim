{
 "cells": [
  {
   "cell_type": "code",
   "execution_count": 2,
   "id": "d65a3393",
   "metadata": {},
   "outputs": [
    {
     "name": "stdout",
     "output_type": "stream",
     "text": [
      "Total cells processed: 91080\n",
      "Data saved to results/fgrid_extracted.csv\n",
      "   i  j  k  cell_id       x_ave       y_ave       z_ave\n",
      "0  1  1  1        1 -116.356927 -181.203405 -181.305969\n",
      "1  2  1  1        2  -97.740709 -162.451583 -168.514180\n",
      "2  3  1  1        3  -78.879534 -143.315969 -155.336784\n",
      "3  4  1  1        4  -59.794547 -123.827656 -141.805474\n",
      "4  5  1  1        5  -40.508195 -104.021485 -127.950286\n"
     ]
    }
   ],
   "source": [
    "from extract_fgrid_file import extract_fgrid_file\n",
    "df = extract_fgrid_file('data/mining_cut.fgrid')\n"
   ]
  }
 ],
 "metadata": {
  "kernelspec": {
   "display_name": "base",
   "language": "python",
   "name": "python3"
  },
  "language_info": {
   "codemirror_mode": {
    "name": "ipython",
    "version": 3
   },
   "file_extension": ".py",
   "mimetype": "text/x-python",
   "name": "python",
   "nbconvert_exporter": "python",
   "pygments_lexer": "ipython3",
   "version": "3.12.4"
  }
 },
 "nbformat": 4,
 "nbformat_minor": 5
}
