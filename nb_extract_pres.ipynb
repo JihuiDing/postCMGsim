{
 "cells": [
  {
   "cell_type": "markdown",
   "id": "888a429f",
   "metadata": {},
   "source": [
    "# extract pressure data into numpy array"
   ]
  },
  {
   "cell_type": "code",
   "execution_count": 1,
   "id": "9362683a",
   "metadata": {},
   "outputs": [
    {
     "name": "stdout",
     "output_type": "stream",
     "text": [
      "Parsing file: data/case1_PRES.rwo\n",
      "Processing time step: 0.0 (2030-Jan-01)\n",
      "Processing time step: 3652.0 (2040-Jan-01)\n",
      "Processing time step: 7305.0 (2050-Jan-01)\n",
      "Processing time step: 10957.0 (2060-Jan-01)\n",
      "Processing time step: 189926.0 (2550-Jan-01)\n",
      "Processing time step: 372547.0 (3050-Jan-01)\n",
      "Found 6 time steps\n",
      "Grid dimensions: I=107, J=117, K=79, Time=6\n"
     ]
    }
   ],
   "source": [
    "from rwo2npy import rwo2npy\n",
    "\n",
    "pres_npy = rwo2npy(\n",
    "    rwo_file_path = \"data/case1_PRES.rwo\",\n",
    "    save_dir = \"results/case1_PRES.npy\"\n",
    "    )"
   ]
  },
  {
   "cell_type": "code",
   "execution_count": null,
   "id": "6099b559",
   "metadata": {},
   "outputs": [
    {
     "name": "stdout",
     "output_type": "stream",
     "text": [
      "case1: writing rwd file ...\n"
     ]
    }
   ],
   "source": [
    "from rwo2npy import wrt_cmg_rwd\n",
    "\n",
    "wrt_cmg_rwd(\n",
    "    sr3_folder_path = \"data\",\n",
    "    case_name = 'case1',\n",
    "    property = 'PRES',\n",
    "    precision = 4\n",
    ")"
   ]
  },
  {
   "cell_type": "code",
   "execution_count": 2,
   "id": "40cd6894",
   "metadata": {},
   "outputs": [
    {
     "name": "stdout",
     "output_type": "stream",
     "text": [
      "case1: generating rwo file ...\n"
     ]
    },
    {
     "name": "stderr",
     "output_type": "stream",
     "text": [
      "sh: line 0: cd: data/case1.rwd: Not a directory\n",
      "sh: C:\\Program Files\\CMG\\RESULTS\\2024.20\\Win_x64\\exe\\Report.exe: command not found\n"
     ]
    }
   ],
   "source": [
    "from rwo2npy import run_rwd_report\n",
    "\n",
    "run_rwd_report(\n",
    "    rwd_folder_path = 'data',\n",
    "    case_name = 'case1',\n",
    "    cmg_version = 'ese-ts2win-v2024.20',\n",
    ")"
   ]
  },
  {
   "cell_type": "code",
   "execution_count": 2,
   "id": "8b98ce8f",
   "metadata": {},
   "outputs": [
    {
     "name": "stdout",
     "output_type": "stream",
     "text": [
      "The current working directory is: /Users/jijuid/Library/CloudStorage/GoogleDrive-jihuid@stanford.edu/My Drive/Github/simulation_processing\n"
     ]
    }
   ],
   "source": [
    "import os\n",
    "\n",
    "# Get the current working directory\n",
    "current_directory = os.getcwd()\n",
    "\n",
    "print(f\"The current working directory is: {current_directory}\")"
   ]
  },
  {
   "cell_type": "code",
   "execution_count": 3,
   "id": "eaf3868e",
   "metadata": {},
   "outputs": [],
   "source": [
    "import os\n",
    "from pathlib import Path\n",
    "\n",
    "rwd_folder_path = 'data'\n",
    "case_name = 'case1'\n",
    "cmg_version = 'ese-ts2win-v2024.20'\n",
    "\n",
    "# check if the rwd folder exists\n",
    "rwd_folder = Path(rwd_folder_path)\n",
    "if not rwd_folder.is_dir():\n",
    "    raise FileNotFoundError(f\"Folder not found: {rwd_folder}\")\n",
    "# check if the case name exists in the rwd folder\n",
    "rwd_file = rwd_folder / f\"{case_name}.rwd\"\n",
    "if not rwd_file.is_file():\n",
    "    raise FileNotFoundError(f\"rwd file not found: {rwd_file}\")\n",
    "\n",
    "if cmg_version == 'ese-ts2win-v2024.20':\n",
    "    exe_path='\"C:\\\\Program Files\\\\CMG\\\\RESULTS\\\\2024.20\\\\Win_x64\\\\exe\\\\Report.exe\"'\n",
    "    cd_path = rwd_folder\n",
    "else:\n",
    "    print(f'The CMG version {cmg_version} is not implemented yet .....')\n",
    "    \n",
    "# # Execute the CMG Results Report on the rwd file to generate the rwo file\n",
    "# cmd_line = f\"cd {cd_path}  & {exe_path} -f {case_name}.rwd -o {case_name}\" # 250821 JD: add output file name otherwise it keeps waiting.\n",
    "# try:\n",
    "#     os.system(cmd_line)\n",
    "# except:\n",
    "#     raise ValueError(f'{case_name} run rwd step encounters an error ...')"
   ]
  },
  {
   "cell_type": "code",
   "execution_count": 4,
   "id": "2e645a4f",
   "metadata": {},
   "outputs": [
    {
     "name": "stdout",
     "output_type": "stream",
     "text": [
      "data\n",
      "\"C:\\Program Files\\CMG\\RESULTS\\2024.20\\Win_x64\\exe\\Report.exe\"\n"
     ]
    }
   ],
   "source": [
    "print(cd_path)\n",
    "print(exe_path)"
   ]
  },
  {
   "cell_type": "code",
   "execution_count": null,
   "id": "c71dbc14",
   "metadata": {},
   "outputs": [],
   "source": []
  }
 ],
 "metadata": {
  "kernelspec": {
   "display_name": "base",
   "language": "python",
   "name": "python3"
  },
  "language_info": {
   "codemirror_mode": {
    "name": "ipython",
    "version": 3
   },
   "file_extension": ".py",
   "mimetype": "text/x-python",
   "name": "python",
   "nbconvert_exporter": "python",
   "pygments_lexer": "ipython3",
   "version": "3.12.4"
  }
 },
 "nbformat": 4,
 "nbformat_minor": 5
}
