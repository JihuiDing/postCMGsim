{
 "cells": [
  {
   "cell_type": "markdown",
   "id": "6273f957",
   "metadata": {},
   "source": [
    "# convert sr3 file to rwo files"
   ]
  },
  {
   "cell_type": "markdown",
   "id": "1fa06697",
   "metadata": {},
   "source": [
    "sr3 is the CMG simulation result file, whereas rwo is the extracted info in the ascii format"
   ]
  },
  {
   "cell_type": "code",
   "execution_count": null,
   "id": "11fd4483",
   "metadata": {},
   "outputs": [],
   "source": [
    "import os\n",
    "from rwo2npy import wrt_cmg_rwd, run_rwd_report\n",
    "\n",
    "for case_num in range(1, 3):\n",
    "    wrt_cmg_rwd(\n",
    "        sr3_folder_path = \"data\",\n",
    "        case_name = f'case{case_num}',\n",
    "        property = 'PRES',\n",
    "        precision = 4\n",
    "    )\n",
    "\n",
    "    run_rwd_report(\n",
    "        rwd_folder_path = 'data',\n",
    "        case_name = f'case{case_num}',\n",
    "        cmg_version = 'ese-ts2win-v2024.20',\n",
    "    )\n",
    "\n",
    "    # remove rwd files\n",
    "    rwd_folder_path = 'data'\n",
    "    os.remove(os.path.join(rwd_folder_path, f'case{case_num}.rwd'))"
   ]
  },
  {
   "cell_type": "markdown",
   "id": "888a429f",
   "metadata": {},
   "source": [
    "# extract pressure data from rwo files into numpy arrays"
   ]
  },
  {
   "cell_type": "code",
   "execution_count": null,
   "id": "9362683a",
   "metadata": {},
   "outputs": [
    {
     "name": "stdout",
     "output_type": "stream",
     "text": [
      "Parsing file: data/case1_PRES.rwo\n",
      "Processing time step: 0.0 (2030-Jan-01)\n",
      "Processing time step: 3652.0 (2040-Jan-01)\n",
      "Processing time step: 7305.0 (2050-Jan-01)\n",
      "Processing time step: 10957.0 (2060-Jan-01)\n",
      "Processing time step: 189926.0 (2550-Jan-01)\n",
      "Processing time step: 372547.0 (3050-Jan-01)\n",
      "Found 6 time steps\n",
      "Grid dimensions: I=107, J=117, K=79, Time=6\n"
     ]
    }
   ],
   "source": [
    "from rwo2npy import rwo2npy\n",
    "\n",
    "for case_num in range(1, 3):\n",
    "    rwo2npy(\n",
    "        rwo_folder_path = \"data\\\\rwo\",\n",
    "        case_name = f'case{case_num}',\n",
    "        property = 'PRES',\n",
    "        save_folder_path = \"results\",\n",
    "        show_info = False\n",
    "    )"
   ]
  },
  {
   "cell_type": "code",
   "execution_count": null,
   "id": "c71dbc14",
   "metadata": {},
   "outputs": [],
   "source": []
  }
 ],
 "metadata": {
  "kernelspec": {
   "display_name": "base",
   "language": "python",
   "name": "python3"
  },
  "language_info": {
   "codemirror_mode": {
    "name": "ipython",
    "version": 3
   },
   "file_extension": ".py",
   "mimetype": "text/x-python",
   "name": "python",
   "nbconvert_exporter": "python",
   "pygments_lexer": "ipython3",
   "version": "3.12.4"
  }
 },
 "nbformat": 4,
 "nbformat_minor": 5
}
