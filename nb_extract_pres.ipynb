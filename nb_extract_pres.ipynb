{
 "cells": [
  {
   "cell_type": "markdown",
   "id": "6273f957",
   "metadata": {},
   "source": [
    "# convert sr3 file to rwo files"
   ]
  },
  {
   "cell_type": "markdown",
   "id": "1fa06697",
   "metadata": {},
   "source": [
    "sr3 is the CMG simulation result file, whereas rwo is the extracted info in the ascii format"
   ]
  },
  {
   "cell_type": "code",
   "execution_count": null,
   "id": "11fd4483",
   "metadata": {},
   "outputs": [],
   "source": [
    "from rwo2npy import wrt_cmg_rwd, run_rwd_report\n",
    "\n",
    "for case_num in range(1, 3):\n",
    "    wrt_cmg_rwd(\n",
    "        sr3_folder_path = \"data\",\n",
    "        case_name = f'case{case_num}',\n",
    "        property = 'PRES',\n",
    "        precision = 4\n",
    "    )\n",
    "\n",
    "    run_rwd_report(\n",
    "        rwd_folder_path = 'data',\n",
    "        case_name = f'case{case_num}',\n",
    "        cmg_version = 'ese-ts2win-v2024.20',\n",
    "    )"
   ]
  },
  {
   "cell_type": "markdown",
   "id": "888a429f",
   "metadata": {},
   "source": [
    "# extract pressure data into numpy array"
   ]
  },
  {
   "cell_type": "code",
   "execution_count": 1,
   "id": "9362683a",
   "metadata": {},
   "outputs": [
    {
     "name": "stdout",
     "output_type": "stream",
     "text": [
      "Parsing file: data/case1_PRES.rwo\n",
      "Processing time step: 0.0 (2030-Jan-01)\n",
      "Processing time step: 3652.0 (2040-Jan-01)\n",
      "Processing time step: 7305.0 (2050-Jan-01)\n",
      "Processing time step: 10957.0 (2060-Jan-01)\n",
      "Processing time step: 189926.0 (2550-Jan-01)\n",
      "Processing time step: 372547.0 (3050-Jan-01)\n",
      "Found 6 time steps\n",
      "Grid dimensions: I=107, J=117, K=79, Time=6\n"
     ]
    }
   ],
   "source": [
    "from rwo2npy import rwo2npy\n",
    "\n",
    "pres_npy = rwo2npy(\n",
    "    rwo_file_path = \"data/case1_PRES.rwo\",\n",
    "    save_dir = \"results/case1_PRES.npy\"\n",
    "    )"
   ]
  },
  {
   "cell_type": "code",
   "execution_count": null,
   "id": "6099b559",
   "metadata": {},
   "outputs": [
    {
     "name": "stdout",
     "output_type": "stream",
     "text": [
      "case1: writing rwd file ...\n"
     ]
    }
   ],
   "source": [
    "from rwo2npy import wrt_cmg_rwd\n",
    "\n",
    "wrt_cmg_rwd(\n",
    "    sr3_folder_path = \"data\",\n",
    "    case_name = 'case1',\n",
    "    property = 'PRES',\n",
    "    precision = 4\n",
    ")"
   ]
  },
  {
   "cell_type": "code",
   "execution_count": 2,
   "id": "40cd6894",
   "metadata": {},
   "outputs": [
    {
     "name": "stdout",
     "output_type": "stream",
     "text": [
      "case1: generating rwo file ...\n"
     ]
    },
    {
     "name": "stderr",
     "output_type": "stream",
     "text": [
      "sh: line 0: cd: data/case1.rwd: Not a directory\n",
      "sh: C:\\Program Files\\CMG\\RESULTS\\2024.20\\Win_x64\\exe\\Report.exe: command not found\n"
     ]
    }
   ],
   "source": [
    "from rwo2npy import run_rwd_report\n",
    "\n",
    "run_rwd_report(\n",
    "    rwd_folder_path = 'data',\n",
    "    case_name = 'case1',\n",
    "    cmg_version = 'ese-ts2win-v2024.20',\n",
    ")"
   ]
  },
  {
   "cell_type": "code",
   "execution_count": null,
   "id": "c71dbc14",
   "metadata": {},
   "outputs": [],
   "source": []
  }
 ],
 "metadata": {
  "kernelspec": {
   "display_name": "base",
   "language": "python",
   "name": "python3"
  },
  "language_info": {
   "codemirror_mode": {
    "name": "ipython",
    "version": 3
   },
   "file_extension": ".py",
   "mimetype": "text/x-python",
   "name": "python",
   "nbconvert_exporter": "python",
   "pygments_lexer": "ipython3",
   "version": "3.12.4"
  }
 },
 "nbformat": 4,
 "nbformat_minor": 5
}
