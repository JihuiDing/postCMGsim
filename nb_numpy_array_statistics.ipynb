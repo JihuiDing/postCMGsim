{
 "cells": [
  {
   "cell_type": "markdown",
   "id": "5b6e52e3",
   "metadata": {},
   "source": [
    "# general version"
   ]
  },
  {
   "cell_type": "code",
   "execution_count": 2,
   "id": "aeeb8874",
   "metadata": {},
   "outputs": [
    {
     "name": "stdout",
     "output_type": "stream",
     "text": [
      "Shape:  (107, 117, 79, 6)\n",
      "Min: 0.00\n",
      "Max: 32418.50\n",
      "Sum: 28814397971.28\n",
      "Mean: 4855.81\n",
      "Median: 0.0\n",
      "Std: 8623.59\n"
     ]
    }
   ],
   "source": [
    "import numpy as np\n",
    "\n",
    "my_array  = np.load('results/case1_PRES.npy')\n",
    "# Calculate basic statistics of a array\n",
    "print('Shape: ', my_array.shape)\n",
    "print(f\"Min: {np.min(my_array):.2f}\")\n",
    "print(f\"Max: {np.max(my_array):.2f}\")\n",
    "print(f\"Sum: {np.sum(my_array):.2f}\")\n",
    "print(f\"Mean: {np.mean(my_array):.2f}\")\n",
    "print(f\"Median: {np.median(my_array)}\")\n",
    "print(f\"Std: {np.std(my_array):.2f}\")"
   ]
  },
  {
   "cell_type": "markdown",
   "id": "0abe6f0a",
   "metadata": {},
   "source": [
    "# Nan-safe version"
   ]
  },
  {
   "cell_type": "code",
   "execution_count": 5,
   "id": "b8c51982",
   "metadata": {},
   "outputs": [
    {
     "name": "stdout",
     "output_type": "stream",
     "text": [
      "Shape:  (107, 117, 79, 6)\n",
      "Min: 0.00\n",
      "Max: 32418.50\n",
      "Sum: 28814397971.28\n",
      "Mean: 4855.81\n",
      "Median: 0.0\n",
      "Std: 8623.59\n"
     ]
    }
   ],
   "source": [
    "import numpy as np\n",
    "\n",
    "my_array  = np.load('results/case1_PRES.npy')\n",
    "# Calculate basic statistics of a array\n",
    "print('Shape: ', my_array.shape)\n",
    "print(f\"Min: {np.nanmin(my_array):.2f}\")\n",
    "print(f\"Max: {np.nanmax(my_array):.2f}\")\n",
    "print(f\"Sum: {np.nansum(my_array):.2f}\")\n",
    "print(f\"Mean: {np.nanmean(my_array):.2f}\")\n",
    "print(f\"Median: {np.nanmedian(my_array)}\")\n",
    "print(f\"Std: {np.nanstd(my_array):.2f}\")"
   ]
  }
 ],
 "metadata": {
  "kernelspec": {
   "display_name": "base",
   "language": "python",
   "name": "python3"
  },
  "language_info": {
   "codemirror_mode": {
    "name": "ipython",
    "version": 3
   },
   "file_extension": ".py",
   "mimetype": "text/x-python",
   "name": "python",
   "nbconvert_exporter": "python",
   "pygments_lexer": "ipython3",
   "version": "3.12.4"
  }
 },
 "nbformat": 4,
 "nbformat_minor": 5
}
