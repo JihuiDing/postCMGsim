{
 "cells": [
  {
   "cell_type": "markdown",
   "id": "23ee0993",
   "metadata": {},
   "source": [
    "# validate extracting fgrid file to numpy file"
   ]
  },
  {
   "cell_type": "code",
   "execution_count": 4,
   "id": "367499c7",
   "metadata": {},
   "outputs": [],
   "source": [
    "import pandas as pd\n",
    "import numpy as np\n",
    "import matplotlib.pyplot as plt"
   ]
  },
  {
   "cell_type": "code",
   "execution_count": 1,
   "id": "0a4d840d",
   "metadata": {},
   "outputs": [
    {
     "name": "stdout",
     "output_type": "stream",
     "text": [
      "Parsing the fgrid file: data/JD_Sula_2025_flow.fgrid\n",
      "Units: METRES  \n",
      "Processing 989001 coordinate sections...\n",
      "Total cells processed: 989001\n",
      "Cells filled: 989001/989001 (100.0%)\n",
      "Coordinates array shape: (107, 117, 79, 3)\n",
      "Coordinates array dtype: float64\n",
      "Coordinate Statistics:\n",
      "  X range: 424730.20 to 477843.57\n",
      "  Y range: 7072225.88 to 7129985.88\n",
      "  Z range: 348.63 to 2865.07\n",
      "Data saved to results/fgrid_coordinates.npy\n"
     ]
    }
   ],
   "source": [
    "from fgrid2npy_JD import extract_fgrid_coordinates\n",
    "coor_npy = extract_fgrid_coordinates(\n",
    "    fgrid_file_path = \"data/JD_Sula_2025_flow.fgrid\",\n",
    "    save_dir = \"results/fgrid_coordinates.npy\"\n",
    "    )"
   ]
  },
  {
   "cell_type": "code",
   "execution_count": 2,
   "id": "147222ae",
   "metadata": {},
   "outputs": [
    {
     "name": "stdout",
     "output_type": "stream",
     "text": [
      "456184.7025\n",
      "7076741.875\n",
      "923.88880875\n"
     ]
    }
   ],
   "source": [
    "print(coor_npy[63,107,42,0])\n",
    "print(coor_npy[63,107,42,1])\n",
    "print(coor_npy[63,107,42,2])"
   ]
  },
  {
   "cell_type": "code",
   "execution_count": 5,
   "id": "bc196b88",
   "metadata": {},
   "outputs": [
    {
     "name": "stdout",
     "output_type": "stream",
     "text": [
      "(24,)\n",
      "456184.7025\n",
      "7076741.875\n",
      "923.88880875\n"
     ]
    }
   ],
   "source": [
    "# data copied directly from the fgrid file\n",
    "data_string = \"\"\"\n",
    "    4.5594269E+05    7.0769925E+06    9.1917834E+02    4.5643500E+05\n",
    "    7.0769920E+06    9.1349969E+02    4.5593431E+05    7.0764915E+06\n",
    "    9.2084918E+02    4.5642681E+05    7.0764915E+06    9.1518518E+02\n",
    "    4.5594269E+05    7.0769925E+06    9.3266486E+02    4.5643500E+05\n",
    "    7.0769920E+06    9.2686707E+02    4.5593431E+05    7.0764915E+06\n",
    "    9.3432288E+02    4.5642681E+05    7.0764915E+06    9.2854327E+02\n",
    "\"\"\"\n",
    "\n",
    "flat_array = np.fromstring(data_string, sep=' ')\n",
    "print(flat_array.shape)\n",
    "print(flat_array[0::3].mean())\n",
    "print(flat_array[1::3].mean())\n",
    "print(flat_array[2::3].mean())"
   ]
  },
  {
   "cell_type": "markdown",
   "id": "021c9d88",
   "metadata": {},
   "source": [
    "# validate fault id by checking against Petrel fault property"
   ]
  },
  {
   "cell_type": "code",
   "execution_count": null,
   "id": "b24a98d1",
   "metadata": {},
   "outputs": [
    {
     "data": {
      "text/plain": [
       "7.0"
      ]
     },
     "execution_count": 6,
     "metadata": {},
     "output_type": "execute_result"
    }
   ],
   "source": [
    "import numpy as np\n",
    "fault_npy = np.load('results/JD_Sula_2025_flow_coor&fault.npy')\n",
    "# fault_npy[94,43,40,3]\n",
    "fault_npy[50,117-1-25,40,3]"
   ]
  }
 ],
 "metadata": {
  "kernelspec": {
   "display_name": "base",
   "language": "python",
   "name": "python3"
  },
  "language_info": {
   "codemirror_mode": {
    "name": "ipython",
    "version": 3
   },
   "file_extension": ".py",
   "mimetype": "text/x-python",
   "name": "python",
   "nbconvert_exporter": "python",
   "pygments_lexer": "ipython3",
   "version": "3.12.4"
  }
 },
 "nbformat": 4,
 "nbformat_minor": 5
}
