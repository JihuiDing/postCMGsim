{
 "cells": [
  {
   "cell_type": "markdown",
   "id": "23ee0993",
   "metadata": {},
   "source": [
    "# validate extracting fgrid file to numpy file"
   ]
  },
  {
   "cell_type": "code",
   "execution_count": 4,
   "id": "367499c7",
   "metadata": {},
   "outputs": [],
   "source": [
    "import pandas as pd\n",
    "import numpy as np\n",
    "import matplotlib.pyplot as plt"
   ]
  },
  {
   "cell_type": "code",
   "execution_count": 1,
   "id": "0a4d840d",
   "metadata": {},
   "outputs": [
    {
     "name": "stdout",
     "output_type": "stream",
     "text": [
      "Parsing the fgrid file: data/JD_Sula_2025_flow.fgrid\n",
      "Units: METRES  \n",
      "Processing 989001 coordinate sections...\n",
      "Total cells processed: 989001\n",
      "Cells filled: 989001/989001 (100.0%)\n",
      "Coordinates array shape: (107, 117, 79, 3)\n",
      "Coordinates array dtype: float64\n",
      "Coordinate Statistics:\n",
      "  X range: 424730.20 to 477843.57\n",
      "  Y range: 7072225.88 to 7129985.88\n",
      "  Z range: 348.63 to 2865.07\n",
      "Data saved to results/fgrid_coordinates.npy\n"
     ]
    }
   ],
   "source": [
    "from fgrid2npy_JD import extract_fgrid_coordinates\n",
    "coor_npy = extract_fgrid_coordinates(\n",
    "    fgrid_file_path = \"data/JD_Sula_2025_flow.fgrid\",\n",
    "    save_dir = \"results/fgrid_coordinates.npy\"\n",
    "    )"
   ]
  },
  {
   "cell_type": "code",
   "execution_count": 2,
   "id": "147222ae",
   "metadata": {},
   "outputs": [
    {
     "name": "stdout",
     "output_type": "stream",
     "text": [
      "456184.7025\n",
      "7076741.875\n",
      "923.88880875\n"
     ]
    }
   ],
   "source": [
    "print(coor_npy[63,107,42,0])\n",
    "print(coor_npy[63,107,42,1])\n",
    "print(coor_npy[63,107,42,2])"
   ]
  },
  {
   "cell_type": "code",
   "execution_count": 5,
   "id": "bc196b88",
   "metadata": {},
   "outputs": [
    {
     "name": "stdout",
     "output_type": "stream",
     "text": [
      "(24,)\n",
      "456184.7025\n",
      "7076741.875\n",
      "923.88880875\n"
     ]
    }
   ],
   "source": [
    "# data copied directly from the fgrid file\n",
    "data_string = \"\"\"\n",
    "    4.5594269E+05    7.0769925E+06    9.1917834E+02    4.5643500E+05\n",
    "    7.0769920E+06    9.1349969E+02    4.5593431E+05    7.0764915E+06\n",
    "    9.2084918E+02    4.5642681E+05    7.0764915E+06    9.1518518E+02\n",
    "    4.5594269E+05    7.0769925E+06    9.3266486E+02    4.5643500E+05\n",
    "    7.0769920E+06    9.2686707E+02    4.5593431E+05    7.0764915E+06\n",
    "    9.3432288E+02    4.5642681E+05    7.0764915E+06    9.2854327E+02\n",
    "\"\"\"\n",
    "\n",
    "flat_array = np.fromstring(data_string, sep=' ')\n",
    "print(flat_array.shape)\n",
    "print(flat_array[0::3].mean())\n",
    "print(flat_array[1::3].mean())\n",
    "print(flat_array[2::3].mean())"
   ]
  },
  {
   "cell_type": "markdown",
   "id": "021c9d88",
   "metadata": {},
   "source": [
    "# validate fault id by checking against Petrel fault property"
   ]
  },
  {
   "cell_type": "code",
   "execution_count": null,
   "id": "b24a98d1",
   "metadata": {},
   "outputs": [
    {
     "data": {
      "text/plain": [
       "7.0"
      ]
     },
     "execution_count": 6,
     "metadata": {},
     "output_type": "execute_result"
    }
   ],
   "source": [
    "import numpy as np\n",
    "fault_npy = np.load('results/JD_Sula_2025_flow_coor&fault.npy')\n",
    "# fault_npy[94,43,40,3]\n",
    "fault_npy[50,117-1-25,40,3]"
   ]
  },
  {
   "cell_type": "markdown",
   "id": "001cc85b",
   "metadata": {},
   "source": [
    "# validate fault slip analysis"
   ]
  },
  {
   "cell_type": "markdown",
   "id": "2519443f",
   "metadata": {},
   "source": [
    "## compute one point using geothermal fault slip code to check if matrix based 3d stress transofrmation and fault slip analysis are correct"
   ]
  },
  {
   "cell_type": "code",
   "execution_count": 2,
   "id": "9636a4a8",
   "metadata": {},
   "outputs": [
    {
     "name": "stdout",
     "output_type": "stream",
     "text": [
      "6.620857434092926 4.5839854638042565\n",
      "0\n"
     ]
    }
   ],
   "source": [
    "# from geothermal fault slip analysis\n",
    "import numpy as np\n",
    "\n",
    "def StressTransform3D(Pf,SH,Sh,Sv,phi,theta):\n",
    "    # set up principle stress matrix\n",
    "    s = np.array([[SH-Pf,0,0],[0,Sh-Pf,0],[0,0,Sv-Pf]])\n",
    "    # pre-calculate trigonometric values\n",
    "    cos_phi = np.cos(np.radians(phi))\n",
    "    sin_phi = np.sin(np.radians(phi))\n",
    "    cos_theta = np.cos(np.radians(theta))\n",
    "    sin_theta = np.sin(np.radians(theta))\n",
    "    # perform stress tranformation\n",
    "    # first rotate around z axis (vertical stress direction)\n",
    "    Rz = np.array([[cos_phi,-sin_phi,0],[sin_phi,cos_phi,0],[0,0,1]])\n",
    "    # next rotate around x axis (maximum horizotnal stress direction)\n",
    "    Rx = np.array([[1,0,0],[0,cos_theta,-sin_theta],[0,sin_theta,cos_theta]])\n",
    "    # compute rotation matrix using rotation components in reverse order\n",
    "    R = Rx @ Rz\n",
    "    # perform rotation\n",
    "    result = R @ s @ (R.T)\n",
    "    # retrieve stresses from matrices\n",
    "    tau1 = result[2,0] # shear stress component in the strike direction\n",
    "    tau2 = result[2,1] # shear stress component in the dip direction\n",
    "    tau = (result[2,0]**2 + result[2,1]**2)**0.5 # shear stress\n",
    "    sigma = result[2,2] # normal stress\n",
    "\n",
    "    return sigma, tau\n",
    "\n",
    "# compute fault slip indicator for a single point\n",
    "# input stress state\n",
    "SH_grad = 15.25 #maximum horizontal stress gradient in MPa/km\n",
    "Sh_grad = 4.89 #minimun horizontal stress gradient in MPa/km\n",
    "Sv_grad = 11.69 #vertical stress gradient in MPa/km\n",
    "SH_azi = 292.13 #maximum horizontal stress direction in degree, relative to north clockwise, range [0,180]\n",
    "mu = 0.6 #coefficient of friction\n",
    "cohesion = 1 # fault cohesion in MPa\n",
    "\n",
    "fault_strike = 10\n",
    "fault_dip = 90\n",
    "\n",
    "# load data\n",
    "coor_fault = np.load('results/JD_Sula_2025_flow_coor&fault.npy')\n",
    "pres = np.load('results/case1_PRES.npy')\n",
    "# extract coordinates\n",
    "x_coor = coor_fault[20,40,60,0]\n",
    "y_coor = coor_fault[20,40,60,1]\n",
    "z_coor = coor_fault[20,40,60,2]\n",
    "# compute principal stresses\n",
    "SH_stress = z_coor /1000 * SH_grad\n",
    "Sh_stress = z_coor /1000 * Sh_grad\n",
    "Sv_stress = z_coor /1000 * Sv_grad\n",
    "# extract pressure\n",
    "pres_slice = pres[20,40,60,2]/1000 # convert to MPa\n",
    "# compute rotation angles\n",
    "phi = SH_azi - fault_strike\n",
    "theta = fault_dip\n",
    "# transform principla stresses to fault planes\n",
    "sigma, tau = StressTransform3D(pres_slice, SH_stress, Sh_stress, Sv_stress, phi, theta)\n",
    "# compute fault slip indicator, where 1 indicates slip and 0 indicates stability\n",
    "fault_slip = ((tau - cohesion) / sigma >= mu).astype(int)\n",
    "print(sigma, tau)\n",
    "print(fault_slip)"
   ]
  }
 ],
 "metadata": {
  "kernelspec": {
   "display_name": "base",
   "language": "python",
   "name": "python3"
  },
  "language_info": {
   "codemirror_mode": {
    "name": "ipython",
    "version": 3
   },
   "file_extension": ".py",
   "mimetype": "text/x-python",
   "name": "python",
   "nbconvert_exporter": "python",
   "pygments_lexer": "ipython3",
   "version": "3.12.4"
  }
 },
 "nbformat": 4,
 "nbformat_minor": 5
}
