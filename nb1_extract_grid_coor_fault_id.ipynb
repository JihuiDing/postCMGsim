{
 "cells": [
  {
   "cell_type": "markdown",
   "id": "538da65c",
   "metadata": {},
   "source": [
    "# export fgrid and fault id files from Petrel "
   ]
  },
  {
   "cell_type": "markdown",
   "id": "8c7f5c84",
   "metadata": {},
   "source": [
    "Make sure these two files are exported using the same setting, including setting cell origin to be (I=0, J=max, K). This is because, in Petrel, i goes from left to right (west to east), j goes from top to bottom (north to south). In CMG, i is the same, but j goes from bottom to top (south to north)."
   ]
  },
  {
   "cell_type": "markdown",
   "id": "f1437a57",
   "metadata": {},
   "source": [
    "# extract information for each cell from a fgrid file"
   ]
  },
  {
   "cell_type": "markdown",
   "id": "d29cdf0a",
   "metadata": {},
   "source": [
    "extract average x, y, z coordinates and fault id for each cell"
   ]
  },
  {
   "cell_type": "code",
   "execution_count": 1,
   "id": "d65a3393",
   "metadata": {},
   "outputs": [
    {
     "name": "stdout",
     "output_type": "stream",
     "text": [
      "Parsing the fgrid file: data/JD_Sula_2025_gmc.fgrid\n",
      "Units: METRES  \n",
      "Processing 125190 coordinate sections...\n",
      "Total cells processed: 125190\n",
      "Cells filled: 125190/125190 (100.0%)\n",
      "Coordinates array shape: (107, 117, 10, 3)\n",
      "Coordinates array dtype: float64\n",
      "Coordinate Statistics:\n",
      "  X range: 424730.20 to 477843.57\n",
      "  Y range: 7072225.88 to 7129985.88\n",
      "  Z range: 348.63 to 2846.26\n",
      "Data saved to results/JD_Sula_2025_gmc_coor&fault.npy\n"
     ]
    }
   ],
   "source": [
    "from fgrid2npy import fgrid2npy\n",
    "coor_npy = fgrid2npy(\n",
    "    fgrid_file_path = \"data/JD_Sula_2025_gmc.fgrid\",\n",
    "    save_dir = \"results/JD_Sula_2025_gmc_coor&fault.npy\"\n",
    "    )"
   ]
  },
  {
   "cell_type": "markdown",
   "id": "3e40a23e",
   "metadata": {},
   "source": [
    "# decompress fault id file and attach it to the cell info dataframe"
   ]
  },
  {
   "cell_type": "code",
   "execution_count": 2,
   "id": "7d1b8020",
   "metadata": {},
   "outputs": [
    {
     "name": "stdout",
     "output_type": "stream",
     "text": [
      "(125190,)\n"
     ]
    }
   ],
   "source": [
    "from CMG_format_decompress import CMG_format_decompress\n",
    "fault_id = CMG_format_decompress('data/JD_Sula_2025_gmc_fault_id.GRDECL')\n",
    "print(fault_id.shape)"
   ]
  },
  {
   "cell_type": "code",
   "execution_count": 3,
   "id": "3de27452",
   "metadata": {},
   "outputs": [
    {
     "name": "stdout",
     "output_type": "stream",
     "text": [
      "(107, 117, 10, 4)\n"
     ]
    }
   ],
   "source": [
    "import numpy as np\n",
    "\n",
    "i=107; j=117; k=10;\n",
    "# initialize a nan array for fault id\n",
    "nan_slice = np.full((i,j,k,1), np.nan)\n",
    "fault_npy = np.concatenate((coor_npy, nan_slice), axis=3)\n",
    "\n",
    "# fill the fault id\n",
    "for ii in range(i):\n",
    "    for jj in range(j):\n",
    "        for kk in range(k):\n",
    "            fault_npy[ii,jj,kk,3] = fault_id[kk*j*i+jj*i+ii]\n",
    "\n",
    "# fault_npy[:,:,:,3] = fault_npy[:,:,:,3].astype(int)\n",
    "fault_npy[:,:,:,3].dtype\n",
    "\n",
    "# flip the j direction, because Petrel count j from top to bottom, and CMG count j from bottom to top.\n",
    "fault_npy = fault_npy[:,::-1,:,:]\n",
    "\n",
    "# fill the non-fault id with nan\n",
    "fault_npy[fault_npy == -999] = np.nan\n",
    "\n",
    "# save the fault_npy\n",
    "np.save('results/JD_Sula_2025_gmc_coor&fault.npy', fault_npy)\n",
    "\n",
    "print(fault_npy.shape)"
   ]
  },
  {
   "cell_type": "code",
   "execution_count": null,
   "id": "c9f920b8",
   "metadata": {},
   "outputs": [],
   "source": []
  }
 ],
 "metadata": {
  "kernelspec": {
   "display_name": "base",
   "language": "python",
   "name": "python3"
  },
  "language_info": {
   "codemirror_mode": {
    "name": "ipython",
    "version": 3
   },
   "file_extension": ".py",
   "mimetype": "text/x-python",
   "name": "python",
   "nbconvert_exporter": "python",
   "pygments_lexer": "ipython3",
   "version": "3.12.4"
  }
 },
 "nbformat": 4,
 "nbformat_minor": 5
}
