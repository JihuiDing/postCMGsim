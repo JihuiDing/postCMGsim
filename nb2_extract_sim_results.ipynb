{
 "cells": [
  {
   "cell_type": "markdown",
   "id": "5cee10b5",
   "metadata": {},
   "source": [
    "# File format conversion\n",
    "CMG sr3/gmch.sr3 --> CMG rwo (by running CMG Results Report software on rwd files) --> numpy array  \n",
    "sr3 is the CMG simulation result file, whereas rwo is the extracted info in the ascii format"
   ]
  },
  {
   "cell_type": "markdown",
   "id": "6273f957",
   "metadata": {},
   "source": [
    "# Step 1: Convert CMG sr3/gmch.sr3 files to rwo files"
   ]
  },
  {
   "cell_type": "code",
   "execution_count": null,
   "id": "11fd4483",
   "metadata": {},
   "outputs": [],
   "source": [
    "from pathlib import Path\n",
    "from CMG2npy import generate_CMG_rwd, run_CMG_rwd_report\n",
    "from tqdm import tqdm\n",
    "\n",
    "# user inputs\n",
    "property = 'STRESMXP'; name_prefix = '250915'; n_cases = 90\n",
    "\n",
    "# setup paths\n",
    "base_path = Path('.')\n",
    "sim_folder_path = base_path/f'{name_prefix}_sherlock'\n",
    "for case_num in tqdm(range(1,n_cases+1),desc='Converting sr3 to rwo'):\n",
    "    generate_CMG_rwd(\n",
    "        sr3_folder_path = sim_folder_path,\n",
    "        case_name = f'case{case_num}',\n",
    "        property = property,\n",
    "        is_gmc_property = True,\n",
    "        precision = 4\n",
    "    )\n",
    "\n",
    "    run_CMG_rwd_report(\n",
    "        rwd_folder_path = sim_folder_path,\n",
    "        case_name = f'case{case_num}',\n",
    "        cmg_version = 'ese-ts2win-v2024.20',\n",
    "    )\n",
    "\n",
    "    # remove rwd files\n",
    "    rwd_folder_path = sim_folder_path\n",
    "    Path(rwd_folder_path, f'case{case_num}.rwd').unlink()\n",
    "\n",
    "print(\"\\nFinished generating rwo files for all cases.\")"
   ]
  },
  {
   "cell_type": "markdown",
   "id": "888a429f",
   "metadata": {},
   "source": [
    "# Step 2: Extract simulation results from rwo files into numpy arrays"
   ]
  },
  {
   "cell_type": "markdown",
   "id": "7f6e951a",
   "metadata": {},
   "source": [
    "## Option 1: Extract results on all grid cells"
   ]
  },
  {
   "cell_type": "code",
   "execution_count": null,
   "id": "528b36e9",
   "metadata": {},
   "outputs": [],
   "source": [
    "from pathlib import Path\n",
    "from pathlib import Path\n",
    "from CMG2npy import CMG_rwo2npy\n",
    "from tqdm import tqdm\n",
    "\n",
    "# user inputs\n",
    "property = 'STRESMXP'; name_prefix = '250915'; n_cases = 90\n",
    "\n",
    "# set up paths\n",
    "base_path = Path('.')\n",
    "sim_folder_path = base_path/f'{name_prefix}_sherlock'\n",
    "save_folder_path = sim_folder_path/f'{name_prefix}_gmc'\n",
    "save_folder_path.mkdir(parents=True, exist_ok=True)\n",
    "\n",
    "for case_num in tqdm(range(1,n_cases+1), desc='Generating numpy arrays from CMG cases'):\n",
    "    sim_results = CMG_rwo2npy(\n",
    "        rwo_folder_path = sim_folder_path/'rwo',\n",
    "        case_name = f'case{case_num}',\n",
    "        property = property,\n",
    "        is_save = True,\n",
    "        save_folder_path = save_folder_path,\n",
    "        show_info = False\n",
    "    )\n",
    "\n",
    "print(\"\\nFinished generating numpy arrays for all cases.\")"
   ]
  },
  {
   "cell_type": "markdown",
   "id": "cc205290",
   "metadata": {},
   "source": [
    "## Option 2: Only keep fault grid cells and simulated layers"
   ]
  },
  {
   "cell_type": "markdown",
   "id": "7f708cba",
   "metadata": {},
   "source": [
    "1. For the JD_Sula_2025_flow grid (107x117x79), the reservoir layers are k=41-79. The other layers were not simulated by setting ntg=0.\n",
    "2. For the JD_Sula_2025_gmc grid (107x117x10), the reservoir layers are k=6-10. "
   ]
  },
  {
   "cell_type": "code",
   "execution_count": null,
   "id": "9362683a",
   "metadata": {},
   "outputs": [],
   "source": [
    "import numpy as np\n",
    "from pathlib import Path\n",
    "from CMG2npy import CMG_rwo2npy\n",
    "from tqdm import tqdm\n",
    "\n",
    "# user inputs\n",
    "property = 'STRESMXP'; name_prefix = '250915'; n_cases = 90\n",
    "coor_fault = np.load('JD_Sula_2025_gmc_coor&fault.npy') # load the grid containing fault id\n",
    "\n",
    "# set up paths\n",
    "base_path = Path('.')\n",
    "sim_folder_path = base_path/f'{name_prefix}_sherlock'\n",
    "save_folder_path = sim_folder_path/f'{name_prefix}_gmc'\n",
    "save_folder_path.mkdir(parents=True, exist_ok=True)\n",
    "\n",
    "for case_num in tqdm(range(1,n_cases+1),desc='Generating numpy arrays from CMG cases'):\n",
    "    # extract results on all grid cells\n",
    "    sim_results = CMG_rwo2npy(\n",
    "        rwo_folder_path = sim_folder_path/'rwo',\n",
    "        case_name = f'case{case_num}',\n",
    "        property = property,\n",
    "        is_save = False,\n",
    "        save_folder_path = save_folder_path,\n",
    "        show_info = False\n",
    "    )\n",
    "\n",
    "    # keep results on fault grid cells only\n",
    "    nan_mask = np.isnan(coor_fault[:,:,:,3])\n",
    "    sim_results[nan_mask] = np.nan\n",
    "\n",
    "    # keep results of simulated layers only\n",
    "    # Python indices are 0-based, to extract slices 41–79, use 40:79\n",
    "    sim_results_trimmed = sim_results[:, :, 5:10]\n",
    "\n",
    "    # save\n",
    "    np.save(save_folder_path/f'case{case_num}_{property}.npy',sim_results_trimmed)\n",
    "\n",
    "\n",
    "print(\"\\nFinished generating numpy arrays for all cases.\")"
   ]
  }
 ],
 "metadata": {
  "kernelspec": {
   "display_name": "base",
   "language": "python",
   "name": "python3"
  },
  "language_info": {
   "codemirror_mode": {
    "name": "ipython",
    "version": 3
   },
   "file_extension": ".py",
   "mimetype": "text/x-python",
   "name": "python",
   "nbconvert_exporter": "python",
   "pygments_lexer": "ipython3",
   "version": "3.12.4"
  }
 },
 "nbformat": 4,
 "nbformat_minor": 5
}
