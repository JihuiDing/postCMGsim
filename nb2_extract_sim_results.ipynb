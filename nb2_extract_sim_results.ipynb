{
 "cells": [
  {
   "cell_type": "markdown",
   "id": "6273f957",
   "metadata": {},
   "source": [
    "# convert CMG sr3 file to rwo files"
   ]
  },
  {
   "cell_type": "markdown",
   "id": "1fa06697",
   "metadata": {},
   "source": [
    "sr3 is the CMG simulation result file, whereas rwo is the extracted info in the ascii format"
   ]
  },
  {
   "cell_type": "code",
   "execution_count": null,
   "id": "11fd4483",
   "metadata": {},
   "outputs": [],
   "source": [
    "import os\n",
    "from CMG2npy import generate_CMG_rwd, run_CMG_rwd_report\n",
    "\n",
    "folder_path = \"data\"\n",
    "for case_num in range(1, 3):\n",
    "    generate_CMG_rwd(\n",
    "        sr3_folder_path = folder_path,\n",
    "        case_name = f'case{case_num}',\n",
    "        property = 'GEORTYPE',\n",
    "        is_gmc_property = True,\n",
    "        precision = 4\n",
    "    )\n",
    "\n",
    "    run_CMG_rwd_report(\n",
    "        rwd_folder_path = folder_path,\n",
    "        case_name = f'case{case_num}',\n",
    "        cmg_version = 'ese-ts2win-v2024.20',\n",
    "    )\n",
    "\n",
    "    # remove rwd files\n",
    "    rwd_folder_path = folder_path\n",
    "    os.remove(os.path.join(rwd_folder_path, f'case{case_num}.rwd'))"
   ]
  },
  {
   "cell_type": "markdown",
   "id": "888a429f",
   "metadata": {},
   "source": [
    "# extract simulation results from rwo files into numpy arrays"
   ]
  },
  {
   "cell_type": "code",
   "execution_count": null,
   "id": "9362683a",
   "metadata": {},
   "outputs": [
    {
     "name": "stdout",
     "output_type": "stream",
     "text": [
      "Parsing file: data/case1_PRES.rwo\n",
      "Processing time step: 0.0 (2030-Jan-01)\n",
      "Processing time step: 3652.0 (2040-Jan-01)\n",
      "Processing time step: 7305.0 (2050-Jan-01)\n",
      "Processing time step: 10957.0 (2060-Jan-01)\n",
      "Processing time step: 189926.0 (2550-Jan-01)\n",
      "Processing time step: 372547.0 (3050-Jan-01)\n",
      "Found 6 time steps\n",
      "Grid dimensions: I=107, J=117, K=79, Time=6\n"
     ]
    }
   ],
   "source": [
    "from CMG2npy import CMG_rwo2npy\n",
    "\n",
    "for case_num in range(1, 3):\n",
    "    CMG_rwo2npy(\n",
    "        rwo_folder_path = \"data\\\\rwo\",\n",
    "        case_name = f'case{case_num}',\n",
    "        property = 'PRES',\n",
    "        save_folder_path = \"results\",\n",
    "        show_info = False\n",
    "    )"
   ]
  },
  {
   "cell_type": "markdown",
   "id": "ac6436af",
   "metadata": {},
   "source": [
    "# extract simulation results of simulated layers"
   ]
  },
  {
   "cell_type": "markdown",
   "id": "ba96a986",
   "metadata": {},
   "source": [
    "for the JD_Sula_2025_flow grid (107x117x79), the reservoir layers are k=41-79. The other layers were not simulated by setting ntg=0."
   ]
  },
  {
   "cell_type": "code",
   "execution_count": null,
   "id": "c71dbc14",
   "metadata": {},
   "outputs": [],
   "source": [
    "import os\n",
    "import numpy as np\n",
    "\n",
    "# Input and output folders\n",
    "input_folder = \"data\"             \n",
    "output_folder = \"results_trimmed\"    \n",
    "os.makedirs(output_folder, exist_ok=True)\n",
    "\n",
    "# Loop through files\n",
    "for filename in os.listdir(input_folder):\n",
    "    if filename.endswith(\"_PRES.npy\"):\n",
    "        input_path = os.path.join(input_folder, filename)\n",
    "\n",
    "        # Load array\n",
    "        arr = np.load(input_path) \n",
    "\n",
    "        # Extract slices 41–79 (Python indices are 0-based, so use 40:79)\n",
    "        arr_trimmed = arr[:, :, 40:79]   # shape (107,117,39,6)\n",
    "\n",
    "        # Save to output folder with same name\n",
    "        output_path = os.path.join(output_folder, filename)\n",
    "        np.save(output_path, arr_trimmed)\n",
    "\n",
    "        print(f\"Processed {filename} -> {arr_trimmed.shape}\")\n"
   ]
  }
 ],
 "metadata": {
  "kernelspec": {
   "display_name": "base",
   "language": "python",
   "name": "python3"
  },
  "language_info": {
   "codemirror_mode": {
    "name": "ipython",
    "version": 3
   },
   "file_extension": ".py",
   "mimetype": "text/x-python",
   "name": "python",
   "nbconvert_exporter": "python",
   "pygments_lexer": "ipython3",
   "version": "3.12.4"
  }
 },
 "nbformat": 4,
 "nbformat_minor": 5
}
