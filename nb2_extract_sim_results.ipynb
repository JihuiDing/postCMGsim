{
 "cells": [
  {
   "cell_type": "markdown",
   "id": "5cee10b5",
   "metadata": {},
   "source": [
    "# File format conversion\n",
    "CMG sr3/gmch.sr3 --> CMG rwo (by running CMG Results Report software on rwd files) --> numpy array  \n",
    "sr3 is the CMG simulation result file, whereas rwo is the extracted info in the ascii format"
   ]
  },
  {
   "cell_type": "markdown",
   "id": "6273f957",
   "metadata": {},
   "source": [
    "# Step 1: Convert CMG sr3/gmch.sr3 files to rwo files"
   ]
  },
  {
   "cell_type": "code",
   "execution_count": null,
   "id": "11fd4483",
   "metadata": {},
   "outputs": [],
   "source": [
    "from pathlib import Path\n",
    "from CMG2npy import generate_CMG_rwd, run_CMG_rwd_report\n",
    "\n",
    "n_cases = 2\n",
    "property = 'STRESMXP'\n",
    "base_path = Path('.')\n",
    "folder_path = base_path/\"data\"\n",
    "for case_num in range(1,n_cases+1):\n",
    "    generate_CMG_rwd(\n",
    "        sr3_folder_path = folder_path,\n",
    "        case_name = f'case{case_num}',\n",
    "        property = property,\n",
    "        is_gmc_property = True,\n",
    "        precision = 4\n",
    "    )\n",
    "\n",
    "    run_CMG_rwd_report(\n",
    "        rwd_folder_path = folder_path,\n",
    "        case_name = f'case{case_num}',\n",
    "        cmg_version = 'ese-ts2win-v2024.20',\n",
    "    )\n",
    "\n",
    "    # remove rwd files\n",
    "    rwd_folder_path = folder_path\n",
    "    Path(rwd_folder_path, f'case{case_num}.rwd').unlink()"
   ]
  },
  {
   "cell_type": "markdown",
   "id": "888a429f",
   "metadata": {},
   "source": [
    "# Step 2: Extract simulation results from rwo files into numpy arrays"
   ]
  },
  {
   "cell_type": "markdown",
   "id": "7f6e951a",
   "metadata": {},
   "source": [
    "## Option 1: Extract results on all grid cells"
   ]
  },
  {
   "cell_type": "code",
   "execution_count": null,
   "id": "528b36e9",
   "metadata": {},
   "outputs": [],
   "source": [
    "from pathlib import Path\n",
    "from CMG2npy import CMG_rwo2npy\n",
    "\n",
    "n_cases = 2\n",
    "save_folder_prefix = '250915'\n",
    "base_path = Path('.')\n",
    "for case_num in range(1,n_cases+1):\n",
    "    sim_results = CMG_rwo2npy(\n",
    "        rwo_folder_path = folder_path/'rwo',\n",
    "        case_name = f'case{case_num}',\n",
    "        property = property,\n",
    "        is_save = True,\n",
    "        save_folder_path = base_path/'data'/f'{save_folder_prefix}_stresses',\n",
    "        show_info = False\n",
    "    )"
   ]
  },
  {
   "cell_type": "markdown",
   "id": "cc205290",
   "metadata": {},
   "source": [
    "## Option 2: Only keep fault grid cells and simulated layers"
   ]
  },
  {
   "cell_type": "markdown",
   "id": "7f708cba",
   "metadata": {},
   "source": [
    "1. For the JD_Sula_2025_flow grid (107x117x79), the reservoir layers are k=41-79. The other layers were not simulated by setting ntg=0.\n",
    "2. For the JD_Sula_2025_gmc grid (107x117x10), the reservoir layers are k=6-10. "
   ]
  },
  {
   "cell_type": "code",
   "execution_count": null,
   "id": "9362683a",
   "metadata": {},
   "outputs": [],
   "source": [
    "import numpy as np\n",
    "from pathlib import Path\n",
    "from CMG2npy import CMG_rwo2npy\n",
    "\n",
    "n_cases = 2\n",
    "# load the grid containing fault id\n",
    "coor_fault = np.load('results/JD_Sula_2025_gmc_coor&fault.npy')\n",
    "# set up paths\n",
    "base_path = Path('.')\n",
    "save_folder_prefix = '250915'\n",
    "save_folder_path = base_path/'data'/f'{save_folder_prefix}_stresses'\n",
    "save_folder_path.mkdir(exist_ok=True)\n",
    "\n",
    "for case_num in range(1,n_cases+1):\n",
    "    # extract results on all grid cells\n",
    "    sim_results = CMG_rwo2npy(\n",
    "        rwo_folder_path = base_path/'data'/'rwo',\n",
    "        case_name = f'case{case_num}',\n",
    "        property = property,\n",
    "        is_save = False,\n",
    "        save_folder_path = save_folder_path,\n",
    "        show_info = False\n",
    "    )\n",
    "\n",
    "    # keep results on fault grid cells only\n",
    "    nan_mask = np.isnan(coor_fault[:,:,:,3])\n",
    "    sim_results[nan_mask] = np.nan\n",
    "\n",
    "    # keep results of simulated layers only\n",
    "    # Python indices are 0-based, to extract slices 41–79, use 40:79\n",
    "    sim_results_trimmed = sim_results[:, :, 5:10]\n",
    "\n",
    "    # save\n",
    "    np.save(save_folder_path/f'case{case_num}_{property}.npy',sim_results_trimmed)"
   ]
  }
 ],
 "metadata": {
  "kernelspec": {
   "display_name": "base",
   "language": "python",
   "name": "python3"
  },
  "language_info": {
   "codemirror_mode": {
    "name": "ipython",
    "version": 3
   },
   "file_extension": ".py",
   "mimetype": "text/x-python",
   "name": "python",
   "nbconvert_exporter": "python",
   "pygments_lexer": "ipython3",
   "version": "3.12.4"
  }
 },
 "nbformat": 4,
 "nbformat_minor": 5
}
