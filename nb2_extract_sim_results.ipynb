{
 "cells": [
  {
   "cell_type": "markdown",
   "id": "5cee10b5",
   "metadata": {},
   "source": [
    "# File format conversion\n",
    "CMG sr3/gmch.sr3 --> CMG rwo (by running CMG Results Report software on rwd files) --> numpy array"
   ]
  },
  {
   "cell_type": "markdown",
   "id": "6273f957",
   "metadata": {},
   "source": [
    "# convert CMG sr3 file to rwo files"
   ]
  },
  {
   "cell_type": "markdown",
   "id": "1fa06697",
   "metadata": {},
   "source": [
    "sr3 is the CMG simulation result file, whereas rwo is the extracted info in the ascii format"
   ]
  },
  {
   "cell_type": "code",
   "execution_count": null,
   "id": "11fd4483",
   "metadata": {},
   "outputs": [
    {
     "name": "stdout",
     "output_type": "stream",
     "text": [
      "case1: writing rwd file ...\n",
      "case1: generating rwo file ...\n",
      "case2: writing rwd file ...\n",
      "case2: generating rwo file ...\n"
     ]
    },
    {
     "name": "stderr",
     "output_type": "stream",
     "text": [
      "sh: C:\\Program Files\\CMG\\RESULTS\\2024.20\\Win_x64\\exe\\Report.exe: command not found\n",
      "sh: C:\\Program Files\\CMG\\RESULTS\\2024.20\\Win_x64\\exe\\Report.exe: command not found\n"
     ]
    }
   ],
   "source": [
    "from pathlib import Path\n",
    "from CMG2npy import generate_CMG_rwd, run_CMG_rwd_report\n",
    "\n",
    "base_path = Path('.')\n",
    "folder_path = base_path/\"data\"\n",
    "property = 'STRESMXP'\n",
    "for case_num in range(1, 3):\n",
    "    generate_CMG_rwd(\n",
    "        sr3_folder_path = folder_path,\n",
    "        case_name = f'case{case_num}',\n",
    "        property = property,\n",
    "        is_gmc_property = True,\n",
    "        precision = 4\n",
    "    )\n",
    "\n",
    "    run_CMG_rwd_report(\n",
    "        rwd_folder_path = folder_path,\n",
    "        case_name = f'case{case_num}',\n",
    "        cmg_version = 'ese-ts2win-v2024.20',\n",
    "    )\n",
    "\n",
    "    # remove rwd files\n",
    "    rwd_folder_path = folder_path\n",
    "    Path(rwd_folder_path, f'case{case_num}.rwd').unlink()"
   ]
  },
  {
   "cell_type": "markdown",
   "id": "888a429f",
   "metadata": {},
   "source": [
    "# extract simulation results from rwo files into numpy arrays"
   ]
  },
  {
   "cell_type": "markdown",
   "id": "7f6e951a",
   "metadata": {},
   "source": [
    "## option 1: extract results on all grid cells"
   ]
  },
  {
   "cell_type": "code",
   "execution_count": null,
   "id": "528b36e9",
   "metadata": {},
   "outputs": [],
   "source": [
    "from pathlib import Path\n",
    "from CMG2npy import CMG_rwo2npy\n",
    "\n",
    "base_path = Path('.')\n",
    "for case_num in range(1, 3):\n",
    "    sim_results = CMG_rwo2npy(\n",
    "        rwo_folder_path = base_path/'data'/'rwo',\n",
    "        case_name = f'case{case_num}',\n",
    "        property = property,\n",
    "        is_save = True,\n",
    "        save_folder_path = base_path/'results',\n",
    "        show_info = False\n",
    "    )"
   ]
  },
  {
   "cell_type": "markdown",
   "id": "cc205290",
   "metadata": {},
   "source": [
    "## option 2: only keep fault grid cells and simulated layers"
   ]
  },
  {
   "cell_type": "code",
   "execution_count": null,
   "id": "9362683a",
   "metadata": {},
   "outputs": [
    {
     "name": "stdout",
     "output_type": "stream",
     "text": [
      "Parsing file: data/case1_PRES.rwo\n",
      "Processing time step: 0.0 (2030-Jan-01)\n",
      "Processing time step: 3652.0 (2040-Jan-01)\n",
      "Processing time step: 7305.0 (2050-Jan-01)\n",
      "Processing time step: 10957.0 (2060-Jan-01)\n",
      "Processing time step: 189926.0 (2550-Jan-01)\n",
      "Processing time step: 372547.0 (3050-Jan-01)\n",
      "Found 6 time steps\n",
      "Grid dimensions: I=107, J=117, K=79, Time=6\n"
     ]
    }
   ],
   "source": [
    "import numpy as np\n",
    "from pathlib import Path\n",
    "from CMG2npy import CMG_rwo2npy\n",
    "\n",
    "# load the grid containing fault id\n",
    "coor_fault = np.load('results/JD_Sula_2025_gmc_coor&fault.npy')\n",
    "base_path = Path('.')\n",
    "save_folder_path = base_path/\"results\"\n",
    "save_folder_path.mkdir(exist_ok=True)\n",
    "\n",
    "for case_num in range(1, 3):\n",
    "    # extract results on all grid cells\n",
    "    sim_results = CMG_rwo2npy(\n",
    "        rwo_folder_path = base_path/'data'/'rwo',\n",
    "        case_name = f'case{case_num}',\n",
    "        property = property,\n",
    "        is_save = False,\n",
    "        save_folder_path = base_path/'results',\n",
    "        show_info = False\n",
    "    )\n",
    "\n",
    "    # keep results on fault grid cells only\n",
    "    nan_mask = np.isnan(coor_fault[:,:,:,3])\n",
    "    sim_results[nan_mask] = np.nan\n",
    "\n",
    "    # keep results of simulated layers only\n",
    "    # Python indices are 0-based, to extract slices 41–79, use 40:79\n",
    "    sim_results_trimmed = sim_results[:, :, 5:10]\n",
    "\n",
    "    # save\n",
    "    np.save(save_folder_path/f'case{case_num}_{property}.npy')"
   ]
  },
  {
   "cell_type": "code",
   "execution_count": 13,
   "id": "2228d8a4",
   "metadata": {},
   "outputs": [
    {
     "name": "stdout",
     "output_type": "stream",
     "text": [
      "Shape:  (107, 117, 79)\n",
      "Min: nan\n",
      "Max: nan\n",
      "Sum: nan\n",
      "Mean: nan\n",
      "Median: nan\n",
      "Std: nan\n"
     ]
    }
   ],
   "source": [
    "import numpy as np\n",
    "\n",
    "my_array  = np.load('results/JD_Sula_2025_flow_coor&fault.npy')\n",
    "my_array = my_array [...,3]\n",
    "# Calculate basic statistics of a array\n",
    "print('Shape: ', my_array.shape)\n",
    "print(f\"Min: {np.min(my_array):.2f}\")\n",
    "print(f\"Max: {np.max(my_array):.2f}\")\n",
    "print(f\"Sum: {np.sum(my_array):.2f}\")\n",
    "print(f\"Mean: {np.mean(my_array):.2f}\")\n",
    "print(f\"Median: {np.median(my_array)}\")\n",
    "print(f\"Std: {np.std(my_array):.2f}\")"
   ]
  },
  {
   "cell_type": "code",
   "execution_count": 8,
   "id": "faf73aaa",
   "metadata": {},
   "outputs": [
    {
     "name": "stdout",
     "output_type": "stream",
     "text": [
      "Shape:  (107, 117, 79)\n",
      "Min: 424730.20\n",
      "Max: 477843.57\n",
      "Sum: 446336817127.22\n",
      "Mean: 451300.67\n",
      "Median: 451303.64249999996\n",
      "Std: 15327.59\n"
     ]
    }
   ],
   "source": [
    "import numpy as np\n",
    "\n",
    "my_array  = np.load('results/JD_Sula_2025_flow_coor&fault.npy')\n",
    "my_array = my_array [...,0]\n",
    "# Calculate basic statistics of a array\n",
    "print('Shape: ', my_array.shape)\n",
    "print(f\"Min: {np.nanmin(my_array):.2f}\")\n",
    "print(f\"Max: {np.nanmax(my_array):.2f}\")\n",
    "print(f\"Sum: {np.nansum(my_array):.2f}\")\n",
    "print(f\"Mean: {np.nanmean(my_array):.2f}\")\n",
    "print(f\"Median: {np.nanmedian(my_array)}\")\n",
    "print(f\"Std: {np.nanstd(my_array):.2f}\")"
   ]
  },
  {
   "cell_type": "code",
   "execution_count": 9,
   "id": "9e0aeb0a",
   "metadata": {},
   "outputs": [
    {
     "data": {
      "text/plain": [
       "425220.4375"
      ]
     },
     "execution_count": 9,
     "metadata": {},
     "output_type": "execute_result"
    }
   ],
   "source": [
    "my_array[0,0,0]"
   ]
  },
  {
   "cell_type": "markdown",
   "id": "ac6436af",
   "metadata": {},
   "source": [
    "## keep results of simulated layers only"
   ]
  },
  {
   "cell_type": "markdown",
   "id": "ba96a986",
   "metadata": {},
   "source": [
    "for the JD_Sula_2025_flow grid (107x117x79), the reservoir layers are k=41-79. The other layers were not simulated by setting ntg=0."
   ]
  },
  {
   "cell_type": "code",
   "execution_count": null,
   "id": "c71dbc14",
   "metadata": {},
   "outputs": [],
   "source": [
    "import os\n",
    "import numpy as np\n",
    "\n",
    "# Input and output folders\n",
    "input_folder = \"data\"             \n",
    "output_folder = \"results_trimmed\"    \n",
    "os.makedirs(output_folder, exist_ok=True)\n",
    "\n",
    "# Loop through files\n",
    "for filename in os.listdir(input_folder):\n",
    "    if filename.endswith(\"_PRES.npy\"):\n",
    "        input_path = os.path.join(input_folder, filename)\n",
    "\n",
    "        # Load array\n",
    "        arr = np.load(input_path) \n",
    "\n",
    "        # Extract slices 41–79 (Python indices are 0-based, so use 40:79)\n",
    "        arr_trimmed = arr[:, :, 40:79]   # shape (107,117,39,6)\n",
    "\n",
    "        # Save to output folder with same name\n",
    "        output_path = os.path.join(output_folder, filename)\n",
    "        np.save(output_path, arr_trimmed)\n",
    "\n",
    "        print(f\"Processed {filename} -> {arr_trimmed.shape}\")\n"
   ]
  }
 ],
 "metadata": {
  "kernelspec": {
   "display_name": "base",
   "language": "python",
   "name": "python3"
  },
  "language_info": {
   "codemirror_mode": {
    "name": "ipython",
    "version": 3
   },
   "file_extension": ".py",
   "mimetype": "text/x-python",
   "name": "python",
   "nbconvert_exporter": "python",
   "pygments_lexer": "ipython3",
   "version": "3.12.4"
  }
 },
 "nbformat": 4,
 "nbformat_minor": 5
}
