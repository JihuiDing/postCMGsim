{
 "cells": [
  {
   "cell_type": "markdown",
   "id": "a5b5445d",
   "metadata": {},
   "source": [
    "# This notebook perform fault slip analysis (FSA) based on reservoir pressure from CMG fluid flow simulations."
   ]
  },
  {
   "cell_type": "markdown",
   "id": "f95a5b57",
   "metadata": {},
   "source": [
    "# 1. Extract grid coordinates and fault id from Petrel exported files. Only need to do once for a 3D grid in Petrel. Save it as numpy array for later use."
   ]
  },
  {
   "cell_type": "markdown",
   "id": "c0d35684",
   "metadata": {},
   "source": [
    "# 2. Extract pressure data from CMG simulation results (sr3 -> rwo -> numpy)."
   ]
  },
  {
   "cell_type": "markdown",
   "id": "3cb8b910",
   "metadata": {},
   "source": [
    "# 3. Peform fault slip analysis"
   ]
  },
  {
   "cell_type": "markdown",
   "id": "40a35453",
   "metadata": {},
   "source": [
    "## perform fault slip analysis on each case"
   ]
  },
  {
   "cell_type": "code",
   "execution_count": 12,
   "id": "0f2efa6f",
   "metadata": {},
   "outputs": [
    {
     "name": "stderr",
     "output_type": "stream",
     "text": [
      "Running pressure-based fault slip analysis: 100%|██████████| 90/90 [00:12<00:00,  7.23it/s]"
     ]
    },
    {
     "name": "stdout",
     "output_type": "stream",
     "text": [
      "\n",
      "Finished analyzing all cases.\n"
     ]
    },
    {
     "name": "stderr",
     "output_type": "stream",
     "text": [
      "\n"
     ]
    }
   ],
   "source": [
    "from fault_slip_analysis import FSA_pressure_based\n",
    "from tqdm import tqdm\n",
    "\n",
    "# user inputs\n",
    "name_prefix = '250918'; n_cases = 90; \n",
    "\n",
    "for case_num in tqdm(range(1, n_cases+1), desc='Running pressure-based fault slip analysis'):\n",
    "    FSA_pressure_based(\n",
    "        pres_folder_path = f\"data/{name_prefix}_gmc\",\n",
    "        coor_fault_file_path = \"data/coor_fault/JD_Sula_2025_gmc_coor&fault_reservoir.npy\",\n",
    "        # parameter_file_path = f\"data/params_responses/{name_prefix}_CMG_parameters.csv\",\n",
    "        parameter_file_path = f\"data/params_responses/250918_CMG_parameters2.csv\",\n",
    "        save_folder_path = f\"data/{name_prefix}_FSA_pres_based\",\n",
    "        case_name = f\"case{case_num}\", \n",
    "        )\n",
    "\n",
    "print(\"\\nFinished analyzing all cases.\")"
   ]
  },
  {
   "cell_type": "markdown",
   "id": "6068ba21",
   "metadata": {},
   "source": [
    "## combine all cases in a numpy array (n_cases,n_faults,n_times) containing total number of slipped cells"
   ]
  },
  {
   "cell_type": "code",
   "execution_count": 13,
   "id": "aacf2f46",
   "metadata": {},
   "outputs": [
    {
     "name": "stderr",
     "output_type": "stream",
     "text": [
      "Combining FSA results for all cases: 100%|██████████| 90/90 [00:00<00:00, 540.11it/s]"
     ]
    },
    {
     "name": "stdout",
     "output_type": "stream",
     "text": [
      "\n",
      "Finished combining FSA results for all cases to one numpy array.\n"
     ]
    },
    {
     "name": "stderr",
     "output_type": "stream",
     "text": [
      "\n"
     ]
    }
   ],
   "source": [
    "import numpy as np\n",
    "import pandas as pd\n",
    "from pathlib import Path\n",
    "from tqdm import tqdm\n",
    "\n",
    "# user inputs\n",
    "name_prefix = '250918'; n_cases = 90; n_faults = 12; n_times = 6\n",
    "fault_info = pd.read_csv('data/raw/fault_strike_dip.csv')\n",
    "coor_fault = np.load('data/coor_fault/JD_Sula_2025_gmc_coor&fault_reservoir.npy')\n",
    "FSA_combined = np.full((n_cases,n_faults,n_times), np.nan)\n",
    "\n",
    "# set up paths\n",
    "base_path = Path('.')\n",
    "FSA_folder = base_path/'data'/f'{name_prefix}_FSA_pres_based'\n",
    "\n",
    "for case_num in tqdm(range(1,n_cases+1), desc='Combining FSA results for all cases'):\n",
    "    FSA = np.load(FSA_folder/f'case{case_num}_fault_slip.npy')\n",
    "\n",
    "    for fault_id in range(0,n_faults):\n",
    "        # save analysis to the specific fault \n",
    "        fault_id_mask = (coor_fault[:,:,:,3] == fault_id)\n",
    "        FSA_combined[case_num-1,fault_id,:] = np.nansum(FSA[fault_id_mask],axis=0)\n",
    "\n",
    "# save as csv\n",
    "np.save(base_path/'data'/f'{name_prefix}_FSA_combined_pres_based.npy',FSA_combined)\n",
    "\n",
    "print(\"\\nFinished combining FSA results for all cases to one numpy array.\")\n",
    "# np.savetxt(base_path/'data'/f'{save_file_prefix}_FSA_combined.csv',FSA_combined,delimiter=\",\",fmt=\"%.4f\")"
   ]
  },
  {
   "cell_type": "code",
   "execution_count": 14,
   "id": "87467c2b",
   "metadata": {},
   "outputs": [
    {
     "name": "stdout",
     "output_type": "stream",
     "text": [
      "(90, 12, 6)\n",
      "[[0. 0. 0. 0. 0. 0.]\n",
      " [0. 0. 0. 0. 0. 0.]\n",
      " [0. 0. 0. 0. 0. 0.]\n",
      " [0. 0. 0. 0. 0. 0.]\n",
      " [0. 0. 0. 0. 0. 0.]\n",
      " [0. 0. 0. 0. 0. 0.]\n",
      " [0. 0. 0. 0. 0. 0.]\n",
      " [0. 0. 0. 0. 0. 0.]\n",
      " [0. 0. 0. 0. 0. 0.]\n",
      " [0. 0. 0. 0. 0. 0.]\n",
      " [0. 0. 0. 0. 0. 0.]\n",
      " [0. 0. 0. 0. 0. 0.]]\n"
     ]
    }
   ],
   "source": [
    "print(FSA_combined.shape)\n",
    "print(FSA_combined[4,:,:])"
   ]
  },
  {
   "cell_type": "markdown",
   "id": "87c21931",
   "metadata": {},
   "source": [
    "## calculate the (number of cases with fault slip / total cases)"
   ]
  },
  {
   "cell_type": "code",
   "execution_count": 15,
   "id": "39c948db",
   "metadata": {},
   "outputs": [
    {
     "data": {
      "text/html": [
       "<div>\n",
       "<style scoped>\n",
       "    .dataframe tbody tr th:only-of-type {\n",
       "        vertical-align: middle;\n",
       "    }\n",
       "\n",
       "    .dataframe tbody tr th {\n",
       "        vertical-align: top;\n",
       "    }\n",
       "\n",
       "    .dataframe thead th {\n",
       "        text-align: right;\n",
       "    }\n",
       "</style>\n",
       "<table border=\"1\" class=\"dataframe\">\n",
       "  <thead>\n",
       "    <tr style=\"text-align: right;\">\n",
       "      <th></th>\n",
       "      <th>fault_id</th>\n",
       "      <th>time_1</th>\n",
       "      <th>time_2</th>\n",
       "      <th>time_3</th>\n",
       "      <th>time_4</th>\n",
       "      <th>time_5</th>\n",
       "      <th>time_6</th>\n",
       "    </tr>\n",
       "  </thead>\n",
       "  <tbody>\n",
       "    <tr>\n",
       "      <th>0</th>\n",
       "      <td>0</td>\n",
       "      <td>0.0</td>\n",
       "      <td>0.0</td>\n",
       "      <td>0.0</td>\n",
       "      <td>0.000000</td>\n",
       "      <td>0.000000</td>\n",
       "      <td>0.000000</td>\n",
       "    </tr>\n",
       "    <tr>\n",
       "      <th>1</th>\n",
       "      <td>1</td>\n",
       "      <td>0.0</td>\n",
       "      <td>0.0</td>\n",
       "      <td>0.0</td>\n",
       "      <td>0.011111</td>\n",
       "      <td>0.000000</td>\n",
       "      <td>0.000000</td>\n",
       "    </tr>\n",
       "    <tr>\n",
       "      <th>2</th>\n",
       "      <td>2</td>\n",
       "      <td>0.0</td>\n",
       "      <td>0.0</td>\n",
       "      <td>0.0</td>\n",
       "      <td>0.000000</td>\n",
       "      <td>0.000000</td>\n",
       "      <td>0.000000</td>\n",
       "    </tr>\n",
       "    <tr>\n",
       "      <th>3</th>\n",
       "      <td>3</td>\n",
       "      <td>0.0</td>\n",
       "      <td>0.0</td>\n",
       "      <td>0.0</td>\n",
       "      <td>0.000000</td>\n",
       "      <td>0.000000</td>\n",
       "      <td>0.000000</td>\n",
       "    </tr>\n",
       "    <tr>\n",
       "      <th>4</th>\n",
       "      <td>4</td>\n",
       "      <td>0.0</td>\n",
       "      <td>0.0</td>\n",
       "      <td>0.0</td>\n",
       "      <td>0.000000</td>\n",
       "      <td>0.000000</td>\n",
       "      <td>0.000000</td>\n",
       "    </tr>\n",
       "    <tr>\n",
       "      <th>5</th>\n",
       "      <td>5</td>\n",
       "      <td>0.0</td>\n",
       "      <td>0.0</td>\n",
       "      <td>0.0</td>\n",
       "      <td>0.000000</td>\n",
       "      <td>0.000000</td>\n",
       "      <td>0.000000</td>\n",
       "    </tr>\n",
       "    <tr>\n",
       "      <th>6</th>\n",
       "      <td>6</td>\n",
       "      <td>0.0</td>\n",
       "      <td>0.0</td>\n",
       "      <td>0.0</td>\n",
       "      <td>0.000000</td>\n",
       "      <td>0.000000</td>\n",
       "      <td>0.000000</td>\n",
       "    </tr>\n",
       "    <tr>\n",
       "      <th>7</th>\n",
       "      <td>7</td>\n",
       "      <td>0.0</td>\n",
       "      <td>0.0</td>\n",
       "      <td>0.0</td>\n",
       "      <td>0.000000</td>\n",
       "      <td>0.000000</td>\n",
       "      <td>0.000000</td>\n",
       "    </tr>\n",
       "    <tr>\n",
       "      <th>8</th>\n",
       "      <td>8</td>\n",
       "      <td>0.0</td>\n",
       "      <td>0.0</td>\n",
       "      <td>0.0</td>\n",
       "      <td>0.022222</td>\n",
       "      <td>0.022222</td>\n",
       "      <td>0.022222</td>\n",
       "    </tr>\n",
       "    <tr>\n",
       "      <th>9</th>\n",
       "      <td>9</td>\n",
       "      <td>0.0</td>\n",
       "      <td>0.0</td>\n",
       "      <td>0.0</td>\n",
       "      <td>0.000000</td>\n",
       "      <td>0.000000</td>\n",
       "      <td>0.000000</td>\n",
       "    </tr>\n",
       "    <tr>\n",
       "      <th>10</th>\n",
       "      <td>10</td>\n",
       "      <td>0.0</td>\n",
       "      <td>0.0</td>\n",
       "      <td>0.0</td>\n",
       "      <td>0.000000</td>\n",
       "      <td>0.000000</td>\n",
       "      <td>0.000000</td>\n",
       "    </tr>\n",
       "    <tr>\n",
       "      <th>11</th>\n",
       "      <td>11</td>\n",
       "      <td>0.0</td>\n",
       "      <td>0.0</td>\n",
       "      <td>0.0</td>\n",
       "      <td>0.000000</td>\n",
       "      <td>0.000000</td>\n",
       "      <td>0.000000</td>\n",
       "    </tr>\n",
       "  </tbody>\n",
       "</table>\n",
       "</div>"
      ],
      "text/plain": [
       "    fault_id  time_1  time_2  time_3    time_4    time_5    time_6\n",
       "0          0     0.0     0.0     0.0  0.000000  0.000000  0.000000\n",
       "1          1     0.0     0.0     0.0  0.011111  0.000000  0.000000\n",
       "2          2     0.0     0.0     0.0  0.000000  0.000000  0.000000\n",
       "3          3     0.0     0.0     0.0  0.000000  0.000000  0.000000\n",
       "4          4     0.0     0.0     0.0  0.000000  0.000000  0.000000\n",
       "5          5     0.0     0.0     0.0  0.000000  0.000000  0.000000\n",
       "6          6     0.0     0.0     0.0  0.000000  0.000000  0.000000\n",
       "7          7     0.0     0.0     0.0  0.000000  0.000000  0.000000\n",
       "8          8     0.0     0.0     0.0  0.022222  0.022222  0.022222\n",
       "9          9     0.0     0.0     0.0  0.000000  0.000000  0.000000\n",
       "10        10     0.0     0.0     0.0  0.000000  0.000000  0.000000\n",
       "11        11     0.0     0.0     0.0  0.000000  0.000000  0.000000"
      ]
     },
     "execution_count": 15,
     "metadata": {},
     "output_type": "execute_result"
    }
   ],
   "source": [
    "import numpy as np\n",
    "from pathlib import Path\n",
    "\n",
    "name_prefix = '250918'\n",
    "base_path = Path('.')\n",
    "\n",
    "FSA_combined = np.load(base_path/'data'/f'{name_prefix}_FSA_combined_pres_based.npy')\n",
    "no_slip_count = np.sum(FSA_combined == 0, axis=0)\n",
    "slip_probability = 1 - no_slip_count/FSA_combined.shape[0]\n",
    "# np.savetxt(base_path/'data'/f'{save_file_prefix}_FSA_probability.csv',slip_probability,delimiter=\",\",fmt=\"%.4f\")\n",
    "# Save as CSV\n",
    "df = pd.DataFrame(\n",
    "    slip_probability,\n",
    "    columns=[f\"time_{t+1}\" for t in range(n_times)]\n",
    ")\n",
    "df.insert(0, \"fault_id\", range(n_faults))\n",
    "\n",
    "df.to_csv(base_path/'data'/f'{name_prefix}_FSA_probability_pres_based.csv', index=False, float_format=\"%.4f\")\n",
    "df"
   ]
  },
  {
   "cell_type": "code",
   "execution_count": null,
   "id": "d4717f30",
   "metadata": {},
   "outputs": [],
   "source": []
  }
 ],
 "metadata": {
  "kernelspec": {
   "display_name": "base",
   "language": "python",
   "name": "python3"
  },
  "language_info": {
   "codemirror_mode": {
    "name": "ipython",
    "version": 3
   },
   "file_extension": ".py",
   "mimetype": "text/x-python",
   "name": "python",
   "nbconvert_exporter": "python",
   "pygments_lexer": "ipython3",
   "version": "3.12.4"
  }
 },
 "nbformat": 4,
 "nbformat_minor": 5
}
