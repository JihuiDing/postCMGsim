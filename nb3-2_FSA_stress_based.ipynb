{
 "cells": [
  {
   "cell_type": "markdown",
   "id": "f2c5fa59",
   "metadata": {},
   "source": [
    "# This notebook perform fault slip analysis (FSA) based on principal stresses from CMG geomechanical simulations."
   ]
  },
  {
   "cell_type": "markdown",
   "id": "f95a5b57",
   "metadata": {},
   "source": [
    "# 1. Extract grid coordinates and fault id from Petrel exported files. Only need to do once for a 3D grid in Petrel. Save it as numpy array for later use."
   ]
  },
  {
   "cell_type": "markdown",
   "id": "c0d35684",
   "metadata": {},
   "source": [
    "# 2. Extract principla stresses (STRESMXP, STRESMNP, STRESINT) from CMG simulation results (gmch.sr3 -> rwo -> numpy)."
   ]
  },
  {
   "cell_type": "markdown",
   "id": "3cb8b910",
   "metadata": {},
   "source": [
    "# 3. Peform fault slip analysis"
   ]
  },
  {
   "cell_type": "markdown",
   "id": "40a35453",
   "metadata": {},
   "source": [
    "## perform fault slip analysis on each case"
   ]
  },
  {
   "cell_type": "code",
   "execution_count": 2,
   "id": "0f2efa6f",
   "metadata": {},
   "outputs": [
    {
     "name": "stdout",
     "output_type": "stream",
     "text": [
      "Processing case1...\n",
      "Processing case2...\n"
     ]
    },
    {
     "name": "stderr",
     "output_type": "stream",
     "text": [
      "/Users/jijuid/Library/CloudStorage/GoogleDrive-jihuid@stanford.edu/My Drive/Github/postCMGsim/fault_slip_analysis.py:124: RuntimeWarning: divide by zero encountered in divide\n",
      "  fault_slip = ((tau - cohesion) / sigma >= mu).astype(np.int8)\n",
      "/Users/jijuid/Library/CloudStorage/GoogleDrive-jihuid@stanford.edu/My Drive/Github/postCMGsim/fault_slip_analysis.py:124: RuntimeWarning: divide by zero encountered in divide\n",
      "  fault_slip = ((tau - cohesion) / sigma >= mu).astype(np.int8)\n"
     ]
    }
   ],
   "source": [
    "from fault_slip_analysis import FSA_stress_based\n",
    "\n",
    "for case_num in range(1, 3):\n",
    "    FSA_stress_based(\n",
    "        stress_folder_path = \"data/results_trimmed_gmc\",\n",
    "        parameter_file_path = \"data/250915_CMG_parameters.csv\",\n",
    "        save_folder_path = \"results/fault_slip_gmc\",\n",
    "        case_name = f\"case{case_num}\", \n",
    "        )"
   ]
  },
  {
   "cell_type": "code",
   "execution_count": null,
   "id": "3b843f5f",
   "metadata": {},
   "outputs": [
    {
     "name": "stdout",
     "output_type": "stream",
     "text": [
      "11645.463173576165\n",
      "(107, 117, 5, 6)\n",
      "(107, 117, 5, 6)\n",
      "Does the array contain zero? True\n",
      "Number of zeros: 174600\n",
      "0.4648933620896238\n",
      "Mean: 8602.07771991906\n",
      "Median: 5434.495\n",
      "Standard Deviation: 9473.23\n",
      "Min: 0.0\n",
      "Max: 33950.8\n",
      "Sum: 3230682329.270001\n"
     ]
    }
   ],
   "source": [
    "import numpy as np\n",
    "\n",
    "stress_folder_path = \"data/results_trimmed_gmc\"\n",
    "case_name = \"case1\"\n",
    "SH_stress = np.load(f'{stress_folder_path}/{case_name}_STRESMXP.npy')\n",
    "Sh_stress = np.load(f'{stress_folder_path}/{case_name}_STRESMNP.npy')\n",
    "Sv_stress = np.load(f'{stress_folder_path}/{case_name}_STRESINT.npy')\n",
    "\n",
    "print(np.mean(SH_stress))\n",
    "print(Sh_stress.shape)\n",
    "print(Sv_stress.shape)\n",
    "\n",
    "my_array = Sv_stress\n",
    "contains_zero = np.any(my_array == 0)\n",
    "print(f\"Does the array contain zero? {contains_zero}\")\n",
    "num_zeros = np.count_nonzero(my_array == 0)\n",
    "print(f\"Number of zeros: {num_zeros}\")\n",
    "print(num_zeros/(107*117*5*6))\n",
    "# Calculate basic statistics for all elements\n",
    "mean_val = np.mean(my_array)\n",
    "median_val = np.median(my_array)\n",
    "std_dev = np.std(my_array)\n",
    "min_val = np.min(my_array)\n",
    "max_val = np.max(my_array)\n",
    "sum_val = np.sum(my_array)\n",
    "print(f\"Mean: {mean_val}\")\n",
    "print(f\"Median: {median_val}\")\n",
    "print(f\"Standard Deviation: {std_dev:.2f}\")\n",
    "print(f\"Min: {min_val}\")\n",
    "print(f\"Max: {max_val}\")\n",
    "print(f\"Sum: {sum_val}\")"
   ]
  },
  {
   "cell_type": "markdown",
   "id": "5571778f",
   "metadata": {},
   "source": [
    "## calculate fault slip percentage on each case"
   ]
  },
  {
   "cell_type": "code",
   "execution_count": 12,
   "id": "996e49dc",
   "metadata": {},
   "outputs": [],
   "source": [
    "import numpy as np\n",
    "\n",
    "n_cases = 90\n",
    "n_time = 6\n",
    "fault_slip_mean = np.zeros((n_cases,n_time))\n",
    "for case_num in range(1, n_cases+1):\n",
    "    fault_slip = np.load(f\"results/fault_slip3/case{case_num}_fault_slip.npy\")\n",
    "    fault_slip_mean[case_num-1,:] = np.mean(fault_slip,axis=(0,1,2))\n",
    "\n",
    "# save as csv\n",
    "np.savetxt(\"results/fault_slip_mean3.csv\",fault_slip_mean,delimiter=\",\",fmt=\"%.4f\")\n",
    "# save for DGSA responses\n",
    "# year = 2050; year_list = [2030, 2040, 2050, 2060, 2550, 3050]\n",
    "# np.savetxt(\"results/250819_CMG_responses2.csv\",fault_slip_mean[:,year_list.index(year)],delimiter=\",\",fmt=\"%.4f\")"
   ]
  },
  {
   "cell_type": "markdown",
   "id": "2f391173",
   "metadata": {},
   "source": [
    "## calculate fault slip percentage on a specific fault at a specific time"
   ]
  },
  {
   "cell_type": "code",
   "execution_count": 3,
   "id": "4c4e356e",
   "metadata": {},
   "outputs": [
    {
     "name": "stdout",
     "output_type": "stream",
     "text": [
      "0.44986449864498645\n"
     ]
    }
   ],
   "source": [
    "import numpy as np\n",
    "# parameters\n",
    "fault_id = 0; year = 2050; year_list = [2030, 2040, 2050, 2060, 2550, 3050]\n",
    "# load data\n",
    "coor_fault = np.load('results/JD_Sula_2025_flow_coor&fault_reservoir.npy')\n",
    "fault_slip = np.load('results/fault_slip/case1_fault_slip.npy')\n",
    "\n",
    "# Filter data for the specific fault_id\n",
    "mask = (coor_fault[:,:,:,3] == fault_id)\n",
    "fault_slip_val = fault_slip[:,:,:,year_list.index(year)][mask]\n",
    "print(np.mean(fault_slip_val))"
   ]
  }
 ],
 "metadata": {
  "kernelspec": {
   "display_name": "base",
   "language": "python",
   "name": "python3"
  },
  "language_info": {
   "codemirror_mode": {
    "name": "ipython",
    "version": 3
   },
   "file_extension": ".py",
   "mimetype": "text/x-python",
   "name": "python",
   "nbconvert_exporter": "python",
   "pygments_lexer": "ipython3",
   "version": "3.12.4"
  }
 },
 "nbformat": 4,
 "nbformat_minor": 5
}
