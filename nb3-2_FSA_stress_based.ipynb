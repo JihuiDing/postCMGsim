{
 "cells": [
  {
   "cell_type": "markdown",
   "id": "f2c5fa59",
   "metadata": {},
   "source": [
    "# This notebook perform fault slip analysis (FSA) based on principal stresses from CMG geomechanical simulations."
   ]
  },
  {
   "cell_type": "markdown",
   "id": "f95a5b57",
   "metadata": {},
   "source": [
    "# 1. Extract grid coordinates and fault id from Petrel exported files. Only need to do once for a 3D grid in Petrel. Save it as numpy array for later use."
   ]
  },
  {
   "cell_type": "markdown",
   "id": "c0d35684",
   "metadata": {},
   "source": [
    "# 2. Extract principla stresses (STRESMXP, STRESMNP, STRESINT) from CMG simulation results (gmch.sr3 -> rwo -> numpy)."
   ]
  },
  {
   "cell_type": "markdown",
   "id": "3cb8b910",
   "metadata": {},
   "source": [
    "# 3. Peform fault slip analysis"
   ]
  },
  {
   "cell_type": "markdown",
   "id": "40a35453",
   "metadata": {},
   "source": [
    "## perform fault slip analysis on each case"
   ]
  },
  {
   "cell_type": "code",
   "execution_count": 6,
   "id": "c1739399",
   "metadata": {},
   "outputs": [
    {
     "data": {
      "text/plain": [
       "(107, 117, 5)"
      ]
     },
     "execution_count": 6,
     "metadata": {},
     "output_type": "execute_result"
    }
   ],
   "source": [
    "import numpy as np\n",
    "coor_fault = np.load('data/coor_fault/JD_Sula_2025_gmc_coor&fault_reservoir.npy')\n",
    "coor_fault[:,:,:,3].shape"
   ]
  },
  {
   "cell_type": "code",
   "execution_count": null,
   "id": "0f2efa6f",
   "metadata": {},
   "outputs": [
    {
     "name": "stdout",
     "output_type": "stream",
     "text": [
      "Processing case1...\n",
      "Processing case1...\n",
      "Processing case1...\n",
      "Processing case1...\n",
      "Processing case1...\n",
      "Processing case1...\n",
      "Processing case1...\n",
      "Processing case1...\n",
      "Processing case1...\n",
      "Processing case1...\n",
      "Processing case1...\n",
      "Processing case1...\n",
      "Processing case2...\n",
      "Processing case2...\n",
      "Processing case2...\n",
      "Processing case2...\n",
      "Processing case2...\n",
      "Processing case2...\n",
      "Processing case2...\n",
      "Processing case2...\n",
      "Processing case2...\n",
      "Processing case2...\n",
      "Processing case2...\n",
      "Processing case2...\n"
     ]
    }
   ],
   "source": [
    "import pandas as pd\n",
    "import numpy as np\n",
    "from fault_slip_analysis import FSA_stress_based\n",
    "\n",
    "n_cases = 2\n",
    "n_faults = 12\n",
    "fault_info = pd.read_csv('data/raw/fault_strike_dip.csv')\n",
    "coor_fault = np.load('data/coor_fault/JD_Sula_2025_gmc_coor&fault_reservoir.npy')\n",
    "FSA_by_fault = np.full((107,117,5,6), np.nan)\n",
    "for i in range(n_cases):\n",
    "    print(f\"Processing case{i+1}...\")\n",
    "    for j in range(n_faults):\n",
    "        row = fault_info.loc[fault_info['fault_id'] == j].iloc[0]\n",
    "        fault_slip = FSA_stress_based(\n",
    "            stress_folder_path = \"data/250819_stresses\",\n",
    "            parameter_file_path = \"data/params_responses/250819_CMG_parameters.csv\",\n",
    "            fault_cell_file_path = 'data/coor_fault/JD_Sula_2025_gmc_coor&fault_reservoir.npy',\n",
    "            # save_folder_path = \"data/250819_FSA_stress\",\n",
    "            case_name = f\"case{i+1}\", \n",
    "            fault_id = j,\n",
    "            fault_strike = row['fault_strike_deg'],\n",
    "            fault_dip = row['dip_angle_deg']\n",
    "            )\n",
    "\n",
    "        # save analysis to the specific fault \n",
    "        fault_id_mask = (coor_fault[:,:,:,3] == j)\n",
    "        FSA_by_fault[fault_id_mask] = fault_slip[fault_id_mask]\n",
    "\n",
    "    # save results for one case\n",
    "    np.save(f'data/250819_FSA/case{i+1}_FSA.npy', FSA_by_fault)"
   ]
  },
  {
   "cell_type": "code",
   "execution_count": 4,
   "id": "d7bb8a56",
   "metadata": {},
   "outputs": [
    {
     "data": {
      "text/plain": [
       "(107, 117, 5, 6)"
      ]
     },
     "execution_count": 4,
     "metadata": {},
     "output_type": "execute_result"
    }
   ],
   "source": [
    "FSA_by_fault.shape"
   ]
  },
  {
   "cell_type": "markdown",
   "id": "5571778f",
   "metadata": {},
   "source": [
    "## calculate fault slip percentage on each case"
   ]
  },
  {
   "cell_type": "code",
   "execution_count": 2,
   "id": "996e49dc",
   "metadata": {},
   "outputs": [],
   "source": [
    "import numpy as np\n",
    "\n",
    "n_cases = 2\n",
    "n_time = 6\n",
    "fault_slip_mean = np.zeros((n_cases,n_time))\n",
    "for case_num in range(1, n_cases+1):\n",
    "    fault_slip = np.load(f\"results/fault_slip_gmc/case{case_num}_fault_slip.npy\")\n",
    "    fault_slip_mean[case_num-1,:] = np.mean(fault_slip,axis=(0,1,2))\n",
    "\n",
    "# save as csv\n",
    "np.savetxt(\"results/fault_slip_gmc.csv\",fault_slip_mean,delimiter=\",\",fmt=\"%.4f\")\n",
    "# save for DGSA responses\n",
    "# year = 2050; year_list = [2030, 2040, 2050, 2060, 2550, 3050]\n",
    "# np.savetxt(\"results/250819_CMG_responses2.csv\",fault_slip_mean[:,year_list.index(year)],delimiter=\",\",fmt=\"%.4f\")"
   ]
  },
  {
   "cell_type": "markdown",
   "id": "2f391173",
   "metadata": {},
   "source": [
    "## calculate fault slip percentage on a specific fault at a specific time"
   ]
  },
  {
   "cell_type": "code",
   "execution_count": 3,
   "id": "4c4e356e",
   "metadata": {},
   "outputs": [
    {
     "name": "stdout",
     "output_type": "stream",
     "text": [
      "0.44986449864498645\n"
     ]
    }
   ],
   "source": [
    "import numpy as np\n",
    "# parameters\n",
    "fault_id = 0; year = 2050; year_list = [2030, 2040, 2050, 2060, 2550, 3050]\n",
    "# load data\n",
    "coor_fault = np.load('results/JD_Sula_2025_flow_coor&fault_reservoir.npy')\n",
    "fault_slip = np.load('results/fault_slip/case1_fault_slip.npy')\n",
    "\n",
    "# Filter data for the specific fault_id\n",
    "mask = (coor_fault[:,:,:,3] == fault_id)\n",
    "fault_slip_val = fault_slip[:,:,:,year_list.index(year)][mask]\n",
    "print(np.mean(fault_slip_val))"
   ]
  }
 ],
 "metadata": {
  "kernelspec": {
   "display_name": "base",
   "language": "python",
   "name": "python3"
  },
  "language_info": {
   "codemirror_mode": {
    "name": "ipython",
    "version": 3
   },
   "file_extension": ".py",
   "mimetype": "text/x-python",
   "name": "python",
   "nbconvert_exporter": "python",
   "pygments_lexer": "ipython3",
   "version": "3.12.4"
  }
 },
 "nbformat": 4,
 "nbformat_minor": 5
}
