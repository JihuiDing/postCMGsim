{
 "cells": [
  {
   "cell_type": "markdown",
   "id": "f95a5b57",
   "metadata": {},
   "source": [
    "# 1. Extract grid coordinates and fault id from Petrel exported files. Only need to do once for a 3D grid in Petrel. Save it as numpy array for later use."
   ]
  },
  {
   "cell_type": "markdown",
   "id": "c0d35684",
   "metadata": {},
   "source": [
    "# 2. Extract pressure data from CMG simulation results (rwo files)."
   ]
  },
  {
   "cell_type": "code",
   "execution_count": 24,
   "id": "c21e3101",
   "metadata": {},
   "outputs": [
    {
     "name": "stdout",
     "output_type": "stream",
     "text": [
      "Parsing file: data/case1_PRES.rwo\n",
      "Processing time step: 0.0 (2030-Jan-01)\n",
      "Processing time step: 3652.0 (2040-Jan-01)\n",
      "Processing time step: 7305.0 (2050-Jan-01)\n",
      "Processing time step: 10957.0 (2060-Jan-01)\n",
      "Processing time step: 189926.0 (2550-Jan-01)\n",
      "Processing time step: 372547.0 (3050-Jan-01)\n",
      "Found 6 time steps\n",
      "Grid dimensions: I=107, J=117, K=79, Time=6\n"
     ]
    }
   ],
   "source": [
    "from rwo2npy import rwo2npy\n",
    "\n",
    "pres_npy = rwo2npy(\n",
    "    rwo_file_path = \"data/case1_PRES.rwo\",\n",
    "    save_dir = \"results/case1_PRES.npy\"\n",
    "    )"
   ]
  },
  {
   "cell_type": "markdown",
   "id": "3cb8b910",
   "metadata": {},
   "source": [
    "# 3. Peform fault slip analysis"
   ]
  },
  {
   "cell_type": "code",
   "execution_count": 18,
   "id": "8bbca342",
   "metadata": {},
   "outputs": [],
   "source": [
    "import numpy as np\n",
    "\n",
    "def StressTransform3D(Pf, SH, Sh, Sv, phi, theta):\n",
    "    # construct stress tensor field: shape (...,3,3)\n",
    "    s = np.zeros(Pf.shape + (3,3))\n",
    "    s[...,0,0] = SH - Pf\n",
    "    s[...,1,1] = Sh - Pf\n",
    "    s[...,2,2] = Sv - Pf\n",
    "    # pre-calculate trigonometric values\n",
    "    cos_phi, sin_phi = np.cos(np.radians(phi)), np.sin(np.radians(phi))\n",
    "    cos_theta, sin_theta = np.cos(np.radians(theta)), np.sin(np.radians(theta))\n",
    "    # perform stress tranformation\n",
    "    # first rotate around z axis (vertical stress direction)\n",
    "    Rz = np.array([[cos_phi,-sin_phi,0],\n",
    "                   [sin_phi, cos_phi,0],\n",
    "                   [0,0,1]])\n",
    "    # next rotate around x axis (maximum horizotnal stress direction)\n",
    "    Rx = np.array([[1,0,0],\n",
    "                   [0,cos_theta,-sin_theta],\n",
    "                   [0,sin_theta, cos_theta]])\n",
    "    # compute rotation matrix using rotation components in reverse order\n",
    "    R = Rx @ Rz\n",
    "    # perform rotation\n",
    "    # einsum does the batched matrix multiplication\n",
    "    result = np.einsum(\"ab,...bc,cd->...ad\", R, s, R.T)\n",
    "    # retrieve stresses from matrices\n",
    "    tau1 = result[...,2,0] # shear stress component in the strike direction\n",
    "    tau2 = result[...,2,1] # shear stress component in the dip direction\n",
    "    tau  = np.sqrt(tau1**2 + tau2**2) # shear stress\n",
    "    sigma = result[...,2,2] # normal stress\n",
    "    \n",
    "    return sigma, tau\n"
   ]
  },
  {
   "cell_type": "code",
   "execution_count": null,
   "id": "dab732b2",
   "metadata": {},
   "outputs": [],
   "source": [
    "# input stress state\n",
    "SH_grad = 15.25 #maximum horizontal stress gradient in MPa/km\n",
    "Sh_grad = 4.89 #minimun horizontal stress gradient in MPa/km\n",
    "Sv_grad = 11.69 #vertical stress gradient in MPa/km\n",
    "SH_azi = 292.13 #maximum horizontal stress direction in degree, relative to north clockwise, range [0,180]\n",
    "mu = 0.6 #coefficient of friction\n",
    "cohesion = 1 # fault cohesion in MPa\n",
    "\n",
    "fault_strike = 10\n",
    "fault_dip = 90\n",
    "\n",
    "# load data\n",
    "coor_fault = np.load('results/JD_Sula_2025_flow_coor&fault.npy')\n",
    "pres = np.load('results/case1_PRES.npy')\n",
    "# extract coordinates\n",
    "x_coor = coor_fault[:,:,:,0]\n",
    "y_coor = coor_fault[:,:,:,1]\n",
    "z_coor = coor_fault[:,:,:,2]\n",
    "# compute principal stresses\n",
    "SH_stress = z_coor /1000 * SH_grad\n",
    "Sh_stress = z_coor /1000 * Sh_grad\n",
    "Sv_stress = z_coor /1000 * Sv_grad\n",
    "# extract pressure\n",
    "pres_slice = pres[:,:,:,2]/1000 # convert to MPa\n",
    "# compute rotation angles\n",
    "phi = SH_azi - fault_strike\n",
    "theta = fault_dip\n",
    "# transform principla stresses to fault planes\n",
    "sigma, tau = StressTransform3D(pres_slice, SH_stress, Sh_stress, Sv_stress, phi, theta)\n",
    "# compute fault slip indicator, where 1 indicates slip and 0 indicates stability\n",
    "fault_slip = ((tau - cohesion) / sigma >= mu).astype(int)\n",
    "# save fault slip indicator\n",
    "np.save('results/fault_slip.npy', fault_slip)"
   ]
  },
  {
   "cell_type": "code",
   "execution_count": 23,
   "id": "6a373136",
   "metadata": {},
   "outputs": [
    {
     "name": "stdout",
     "output_type": "stream",
     "text": [
      "6.620857434092926\n",
      "4.5839854638042565\n"
     ]
    }
   ],
   "source": [
    "print(sigma[20,40,60])\n",
    "print(tau[20,40,60])"
   ]
  },
  {
   "cell_type": "code",
   "execution_count": 20,
   "id": "830dda69",
   "metadata": {},
   "outputs": [
    {
     "data": {
      "text/plain": [
       "(107, 117, 79)"
      ]
     },
     "execution_count": 20,
     "metadata": {},
     "output_type": "execute_result"
    }
   ],
   "source": [
    "fault_slip.shape"
   ]
  },
  {
   "cell_type": "code",
   "execution_count": 22,
   "id": "ff705f0a",
   "metadata": {},
   "outputs": [
    {
     "data": {
      "text/plain": [
       "0"
      ]
     },
     "execution_count": 22,
     "metadata": {},
     "output_type": "execute_result"
    }
   ],
   "source": [
    "fault_slip[1,2,3]"
   ]
  },
  {
   "cell_type": "code",
   "execution_count": 13,
   "id": "ea16843d",
   "metadata": {},
   "outputs": [
    {
     "name": "stdout",
     "output_type": "stream",
     "text": [
      "0\n",
      "1\n"
     ]
    }
   ],
   "source": [
    "print(np.min(fault_slip))\n",
    "print(np.max(fault_slip))"
   ]
  }
 ],
 "metadata": {
  "kernelspec": {
   "display_name": "base",
   "language": "python",
   "name": "python3"
  },
  "language_info": {
   "codemirror_mode": {
    "name": "ipython",
    "version": 3
   },
   "file_extension": ".py",
   "mimetype": "text/x-python",
   "name": "python",
   "nbconvert_exporter": "python",
   "pygments_lexer": "ipython3",
   "version": "3.12.4"
  }
 },
 "nbformat": 4,
 "nbformat_minor": 5
}
