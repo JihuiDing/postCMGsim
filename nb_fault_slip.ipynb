{
 "cells": [
  {
   "cell_type": "code",
   "execution_count": 1,
   "id": "c21e3101",
   "metadata": {},
   "outputs": [],
   "source": [
    "import numpy as np\n",
    "import pandas as pd\n",
    "import matplotlib.pyplot as plt"
   ]
  },
  {
   "cell_type": "code",
   "execution_count": 4,
   "id": "8bbca342",
   "metadata": {},
   "outputs": [],
   "source": [
    "import numpy as np\n",
    "\n",
    "def StressTransform3D(Pf, SH, Sh, Sv, phi, theta):\n",
    "    # construct stress tensor field: shape (...,3,3)\n",
    "    s = np.zeros(Pf.shape + (3,3))\n",
    "    s[...,0,0] = SH - Pf\n",
    "    s[...,1,1] = Sh - Pf\n",
    "    s[...,2,2] = Sv - Pf\n",
    "    \n",
    "    # pre-calculate trig\n",
    "    cos_phi, sin_phi = np.cos(np.radians(phi)), np.sin(np.radians(phi))\n",
    "    cos_theta, sin_theta = np.cos(np.radians(theta)), np.sin(np.radians(theta))\n",
    "    \n",
    "    # rotation matrices\n",
    "    Rz = np.array([[cos_phi,-sin_phi,0],\n",
    "                   [sin_phi, cos_phi,0],\n",
    "                   [0,0,1]])\n",
    "    Rx = np.array([[1,0,0],\n",
    "                   [0,cos_theta,-sin_theta],\n",
    "                   [0,sin_theta, cos_theta]])\n",
    "    R = Rx @ Rz\n",
    "    \n",
    "    # rotate stress tensor: R s R^T\n",
    "    # einsum does the batched matrix multiplication\n",
    "    result = np.einsum(\"ab,...bc,cd->...ad\", R, s, R.T)\n",
    "    \n",
    "    # extract stresses\n",
    "    tau1 = result[...,2,0]\n",
    "    tau2 = result[...,2,1]\n",
    "    tau  = np.sqrt(tau1**2 + tau2**2)\n",
    "    sigma = result[...,2,2]\n",
    "    \n",
    "    return sigma, tau\n"
   ]
  },
  {
   "cell_type": "code",
   "execution_count": 15,
   "id": "dab732b2",
   "metadata": {},
   "outputs": [],
   "source": [
    "# input stress state\n",
    "SH_grad = 15.25 #maximum horizontal stress gradient in MPa/km\n",
    "Sh_grad = 4.89 #minimun horizontal stress gradient in MPa/km\n",
    "Sv_grad = 11.69#vertical stress gradient in MPa/km\n",
    "SH_azi = 292.13 #maximum horizontal stress direction in degree, relative to north clockwise, range [0,180]\n",
    "mu = 0.6 #coefficient of friction\n",
    "cohesion = 1 # fault cohesion in MPa\n",
    "\n",
    "fault_strike = 10\n",
    "fault_dip = 90\n",
    "\n",
    "# load data\n",
    "coor_fault = np.load('results/JD_Sula_2025_flow_coor&fault.npy')\n",
    "pres = np.load('results/case1_PRES.npy')\n",
    "\n",
    "x_coor = coor_fault[:,:,:,0]\n",
    "y_coor = coor_fault[:,:,:,1]\n",
    "z_coor = coor_fault[:,:,:,2]\n",
    "\n",
    "pres_slice = pres[:,:,:,2]/1000 # convert to MPa\n",
    "\n",
    "SH_stress = z_coor /1000 * SH_grad\n",
    "Sh_stress = z_coor /1000 * Sh_grad\n",
    "Sv_stress = z_coor /1000 * Sv_grad\n",
    "\n",
    "# compute rotation angles\n",
    "phi = SH_azi - fault_strike\n",
    "theta = fault_dip\n",
    "\n",
    "sigma, tau = StressTransform3D(pres_slice, SH_stress, Sh_stress, Sv_stress, phi, theta)\n",
    "\n",
    "fault_slip = ((tau - cohesion) / sigma >= mu).astype(int)\n",
    "np.save('results/fault_slip.npy', fault_slip)"
   ]
  },
  {
   "cell_type": "code",
   "execution_count": 12,
   "id": "830dda69",
   "metadata": {},
   "outputs": [
    {
     "data": {
      "text/plain": [
       "(107, 117, 79)"
      ]
     },
     "execution_count": 12,
     "metadata": {},
     "output_type": "execute_result"
    }
   ],
   "source": [
    "fault_slip.shape"
   ]
  },
  {
   "cell_type": "code",
   "execution_count": 13,
   "id": "ea16843d",
   "metadata": {},
   "outputs": [
    {
     "name": "stdout",
     "output_type": "stream",
     "text": [
      "0\n",
      "1\n"
     ]
    }
   ],
   "source": [
    "print(np.min(fault_slip))\n",
    "print(np.max(fault_slip))"
   ]
  }
 ],
 "metadata": {
  "kernelspec": {
   "display_name": "base",
   "language": "python",
   "name": "python3"
  },
  "language_info": {
   "codemirror_mode": {
    "name": "ipython",
    "version": 3
   },
   "file_extension": ".py",
   "mimetype": "text/x-python",
   "name": "python",
   "nbconvert_exporter": "python",
   "pygments_lexer": "ipython3",
   "version": "3.12.4"
  }
 },
 "nbformat": 4,
 "nbformat_minor": 5
}
